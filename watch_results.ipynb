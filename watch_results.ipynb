{
 "cells": [
  {
   "cell_type": "code",
   "execution_count": 1,
   "metadata": {},
   "outputs": [
    {
     "name": "stderr",
     "output_type": "stream",
     "text": [
      "/Users/user/demo_1/oobabooga_macos/.venv/lib/python3.10/site-packages/tqdm/auto.py:21: TqdmWarning: IProgress not found. Please update jupyter and ipywidgets. See https://ipywidgets.readthedocs.io/en/stable/user_install.html\n",
      "  from .autonotebook import tqdm as notebook_tqdm\n"
     ]
    }
   ],
   "source": [
    "from run_bench import save_overall_results\n",
    "from pathlib import Path"
   ]
  },
  {
   "cell_type": "code",
   "execution_count": 2,
   "metadata": {},
   "outputs": [
    {
     "name": "stderr",
     "output_type": "stream",
     "text": [
      "100%|██████████| 9/9 [00:00<00:00, 28684.45it/s]\n"
     ]
    },
    {
     "name": "stdout",
     "output_type": "stream",
     "text": [
      "Loading datasets with seed: 1\n",
      "cais_mmlu-all-validation 0.25\n",
      "ai2_arc-arc-challenge-validation 0.24968789013732834\n",
      "anli--test_r1 0.3333333333333333\n",
      "cosmos_qa--validation 0.25\n",
      "alekseykorshuk_hellaswag-arc-easy-validation 0.25\n",
      "winogrande-winogrande_s-validation 0.5\n",
      "race-high-validation 0.25\n",
      "math_qa--validation 0.2004008016032064\n",
      "truthful_qa-multiple_choice-validation 0.19880715705765406\n",
      "0.029834985733032227\n"
     ]
    },
    {
     "name": "stderr",
     "output_type": "stream",
     "text": [
      "100%|██████████| 9/9 [00:00<00:00, 100129.27it/s]\n"
     ]
    },
    {
     "name": "stdout",
     "output_type": "stream",
     "text": [
      "Loading datasets with seed: 1\n",
      "cais_mmlu-all-validation 0.25\n",
      "ai2_arc-arc-challenge-validation 0.24968789013732834\n",
      "anli--test_r1 0.3333333333333333\n",
      "cosmos_qa--validation 0.25\n",
      "alekseykorshuk_hellaswag-arc-easy-validation 0.25\n",
      "winogrande-winogrande_s-validation 0.5\n",
      "race-high-validation 0.25\n",
      "math_qa--validation 0.2004008016032064\n",
      "truthful_qa-multiple_choice-validation 0.19880715705765406\n",
      "0.00824880599975586\n"
     ]
    },
    {
     "name": "stderr",
     "output_type": "stream",
     "text": [
      "100%|██████████| 9/9 [00:00<00:00, 113701.01it/s]\n"
     ]
    },
    {
     "name": "stdout",
     "output_type": "stream",
     "text": [
      "Loading datasets with seed: 1\n",
      "cais_mmlu-all-validation 0.25\n",
      "ai2_arc-arc-challenge-validation 0.24968789013732834\n",
      "anli--test_r1 0.3333333333333333\n",
      "cosmos_qa--validation 0.25\n",
      "alekseykorshuk_hellaswag-arc-easy-validation 0.25\n",
      "winogrande-winogrande_s-validation 0.5\n",
      "race-high-validation 0.25\n",
      "math_qa--validation 0.2004008016032064\n",
      "truthful_qa-multiple_choice-validation 0.19880715705765406\n",
      "0.010364055633544922\n"
     ]
    },
    {
     "name": "stderr",
     "output_type": "stream",
     "text": [
      "100%|██████████| 9/9 [00:00<00:00, 92748.74it/s]\n"
     ]
    },
    {
     "name": "stdout",
     "output_type": "stream",
     "text": [
      "Loading datasets with seed: 1\n",
      "cais_mmlu-all-validation 0.25\n",
      "ai2_arc-arc-challenge-validation 0.24968789013732834\n",
      "anli--test_r1 0.3333333333333333\n",
      "cosmos_qa--validation 0.25\n",
      "alekseykorshuk_hellaswag-arc-easy-validation 0.25\n",
      "winogrande-winogrande_s-validation 0.5\n",
      "race-high-validation 0.25\n",
      "math_qa--validation 0.2004008016032064\n",
      "truthful_qa-multiple_choice-validation 0.19880715705765406\n",
      "0.008987188339233398\n"
     ]
    },
    {
     "name": "stderr",
     "output_type": "stream",
     "text": [
      "100%|██████████| 9/9 [00:00<00:00, 102023.61it/s]\n"
     ]
    },
    {
     "name": "stdout",
     "output_type": "stream",
     "text": [
      "Loading datasets with seed: 1\n",
      "cais_mmlu-all-validation 0.25\n",
      "ai2_arc-arc-challenge-validation 0.24968789013732834\n",
      "anli--test_r1 0.3333333333333333\n",
      "cosmos_qa--validation 0.25\n",
      "alekseykorshuk_hellaswag-arc-easy-validation 0.25\n",
      "winogrande-winogrande_s-validation 0.5\n",
      "race-high-validation 0.25\n",
      "math_qa--validation 0.2004008016032064\n",
      "truthful_qa-multiple_choice-validation 0.19880715705765406\n",
      "0.011543035507202148\n"
     ]
    },
    {
     "name": "stderr",
     "output_type": "stream",
     "text": [
      "100%|██████████| 9/9 [00:00<00:00, 91846.07it/s]\n"
     ]
    },
    {
     "name": "stdout",
     "output_type": "stream",
     "text": [
      "Loading datasets with seed: 1\n",
      "cais_mmlu-all-validation 0.25\n",
      "ai2_arc-arc-challenge-validation 0.24968789013732834\n",
      "anli--test_r1 0.3333333333333333\n",
      "cosmos_qa--validation 0.25\n",
      "alekseykorshuk_hellaswag-arc-easy-validation 0.25\n",
      "winogrande-winogrande_s-validation 0.5\n",
      "race-high-validation 0.25\n",
      "math_qa--validation 0.2004008016032064\n",
      "truthful_qa-multiple_choice-validation 0.19880715705765406\n",
      "0.011056900024414062\n"
     ]
    },
    {
     "name": "stderr",
     "output_type": "stream",
     "text": [
      "100%|██████████| 9/9 [00:00<00:00, 19909.67it/s]\n"
     ]
    },
    {
     "name": "stdout",
     "output_type": "stream",
     "text": [
      "Loading datasets with seed: 1\n",
      "cais_mmlu-all-validation 0.25\n",
      "ai2_arc-arc-challenge-validation 0.24968789013732834\n",
      "anli--test_r1 0.3333333333333333\n",
      "cosmos_qa--validation 0.25\n",
      "alekseykorshuk_hellaswag-arc-easy-validation 0.25\n",
      "winogrande-winogrande_s-validation 0.5\n",
      "race-high-validation 0.25\n",
      "math_qa--validation 0.2004008016032064\n",
      "truthful_qa-multiple_choice-validation 0.19880715705765406\n",
      "0.011353254318237305\n"
     ]
    }
   ],
   "source": [
    "fig = save_overall_results(results_folder=Path(\"results\"), method=\"plotly\")"
   ]
  },
  {
   "cell_type": "code",
   "execution_count": null,
   "metadata": {},
   "outputs": [],
   "source": []
  }
 ],
 "metadata": {
  "kernelspec": {
   "display_name": ".venv",
   "language": "python",
   "name": "python3"
  },
  "language_info": {
   "codemirror_mode": {
    "name": "ipython",
    "version": 3
   },
   "file_extension": ".py",
   "mimetype": "text/x-python",
   "name": "python",
   "nbconvert_exporter": "python",
   "pygments_lexer": "ipython3",
   "version": "3.10.13"
  }
 },
 "nbformat": 4,
 "nbformat_minor": 2
}
