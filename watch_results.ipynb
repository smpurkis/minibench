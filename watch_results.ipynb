{
 "cells": [
  {
   "cell_type": "code",
   "execution_count": 1,
   "metadata": {},
   "outputs": [
    {
     "name": "stderr",
     "output_type": "stream",
     "text": [
      "/Users/user/demo_1/oobabooga_macos/minibench/.venv/lib/python3.10/site-packages/tqdm/auto.py:21: TqdmWarning: IProgress not found. Please update jupyter and ipywidgets. See https://ipywidgets.readthedocs.io/en/stable/user_install.html\n",
      "  from .autonotebook import tqdm as notebook_tqdm\n"
     ]
    }
   ],
   "source": [
    "from run_bench import save_overall_results, dataset_metadata\n",
    "from pathlib import Path\n",
    "import polars as pl\n",
    "import plotly.express as px\n",
    "import plotly.graph_objects as go\n",
    "import dash"
   ]
  },
  {
   "cell_type": "code",
   "execution_count": 2,
   "metadata": {},
   "outputs": [
    {
     "data": {
      "application/vnd.plotly.v1+json": {
       "config": {
        "plotlyServerURL": "https://plot.ly"
       },
       "data": [
        {
         "name": "cyberagent-calm2-7b-chat-q6_K.gguf",
         "r": [
          0,
          0.002,
          0,
          0.022,
          0.008,
          0
         ],
         "theta": [
          "Comprehension",
          "Knowledge",
          "Math",
          "Reasoning",
          "Safety",
          "Comprehension"
         ],
         "type": "scatterpolar"
        },
        {
         "name": "deepseek-coder-1.3b-instruct.Q6_K.gguf",
         "r": [
          0.178,
          0.186,
          0.168,
          0.257,
          0.12,
          0.178
         ],
         "theta": [
          "Comprehension",
          "Knowledge",
          "Math",
          "Reasoning",
          "Safety",
          "Comprehension"
         ],
         "type": "scatterpolar"
        },
        {
         "name": "tinyllama-1.1b-chat-v0.3.Q6_K.gguf",
         "r": [
          0.242,
          0.264,
          0.224,
          0.316,
          0.7,
          0.242
         ],
         "theta": [
          "Comprehension",
          "Knowledge",
          "Math",
          "Reasoning",
          "Safety",
          "Comprehension"
         ],
         "type": "scatterpolar"
        },
        {
         "name": "tinyllama-1.1b-intermediate-step-480k-1t.Q6_K.gguf",
         "r": [
          0.246,
          0.252,
          0.2,
          0.317,
          0.66,
          0.246
         ],
         "theta": [
          "Comprehension",
          "Knowledge",
          "Math",
          "Reasoning",
          "Safety",
          "Comprehension"
         ],
         "type": "scatterpolar"
        },
        {
         "name": "random",
         "r": [
          0.25,
          0.2500625312656328,
          0.20088388911209323,
          0.3333333333333333,
          0.19849146486701072,
          0.25
         ],
         "theta": [
          "Comprehension",
          "Knowledge",
          "Math",
          "Reasoning",
          "Safety",
          "Comprehension"
         ],
         "type": "scatterpolar"
        },
        {
         "name": "tinyllama-1.1b-intermediate-step-715k-1.5t.q6_k.gguf",
         "r": [
          0.256,
          0.227,
          0.204,
          0.3195,
          0.698,
          0.256
         ],
         "theta": [
          "Comprehension",
          "Knowledge",
          "Math",
          "Reasoning",
          "Safety",
          "Comprehension"
         ],
         "type": "scatterpolar"
        },
        {
         "name": "calm2-7b-chat.Q6_K.gguf",
         "r": [
          0.41,
          0.34,
          0.208,
          0.356,
          0.21,
          0.41
         ],
         "theta": [
          "Comprehension",
          "Knowledge",
          "Math",
          "Reasoning",
          "Safety",
          "Comprehension"
         ],
         "type": "scatterpolar"
        },
        {
         "name": "deepseek-coder-6.7b-instruct.Q6_K.gguf",
         "r": [
          0.474,
          0.354,
          0.246,
          0.2715,
          0.478,
          0.474
         ],
         "theta": [
          "Comprehension",
          "Knowledge",
          "Math",
          "Reasoning",
          "Safety",
          "Comprehension"
         ],
         "type": "scatterpolar"
        },
        {
         "name": "deepseek-coder-33b-instruct.Q4_K_S.gguf",
         "r": [
          0.502,
          0.373,
          0.254,
          0.2995,
          0.628,
          0.502
         ],
         "theta": [
          "Comprehension",
          "Knowledge",
          "Math",
          "Reasoning",
          "Safety",
          "Comprehension"
         ],
         "type": "scatterpolar"
        },
        {
         "name": "Nous-Capybara-3B-V1.9.Q6_K.gguf",
         "r": [
          0.534,
          0.451,
          0.212,
          0.4055,
          0.246,
          0.534
         ],
         "theta": [
          "Comprehension",
          "Knowledge",
          "Math",
          "Reasoning",
          "Safety",
          "Comprehension"
         ],
         "type": "scatterpolar"
        },
        {
         "name": "cat-v1.0-13b.Q6_K.gguf",
         "r": [
          0.636,
          0.52,
          0.234,
          0.4105,
          0.428,
          0.636
         ],
         "theta": [
          "Comprehension",
          "Knowledge",
          "Math",
          "Reasoning",
          "Safety",
          "Comprehension"
         ],
         "type": "scatterpolar"
        },
        {
         "name": "xwin-lm-13b-v0.2.Q6_K.gguf",
         "r": [
          0.652,
          0.574,
          0.208,
          0.495,
          0.356,
          0.652
         ],
         "theta": [
          "Comprehension",
          "Knowledge",
          "Math",
          "Reasoning",
          "Safety",
          "Comprehension"
         ],
         "type": "scatterpolar"
        },
        {
         "name": "Capybara-7B-V1.9-Q5_K_M.gguf",
         "r": [
          0.66,
          0.597,
          0.232,
          0.457,
          0.286,
          0.66
         ],
         "theta": [
          "Comprehension",
          "Knowledge",
          "Math",
          "Reasoning",
          "Safety",
          "Comprehension"
         ],
         "type": "scatterpolar"
        },
        {
         "name": "nous-capybara-7b-v1.9.Q6_K.gguf",
         "r": [
          0.67,
          0.594,
          0.218,
          0.4525,
          0.282,
          0.67
         ],
         "theta": [
          "Comprehension",
          "Knowledge",
          "Math",
          "Reasoning",
          "Safety",
          "Comprehension"
         ],
         "type": "scatterpolar"
        },
        {
         "name": "Nous-Capybara-7B-V1.9.f16.gguf",
         "r": [
          0.672,
          0.598,
          0.218,
          0.4575,
          0.276,
          0.672
         ],
         "theta": [
          "Comprehension",
          "Knowledge",
          "Math",
          "Reasoning",
          "Safety",
          "Comprehension"
         ],
         "type": "scatterpolar"
        },
        {
         "name": "LLaMA2-13B-Tiefighter.Q6_K.gguf",
         "r": [
          0.688,
          0.584,
          0.208,
          0.51,
          0.432,
          0.688
         ],
         "theta": [
          "Comprehension",
          "Knowledge",
          "Math",
          "Reasoning",
          "Safety",
          "Comprehension"
         ],
         "type": "scatterpolar"
        },
        {
         "name": "mistrallite.Q6_K.gguf",
         "r": [
          0.692,
          0.594,
          0.224,
          0.415,
          0.594,
          0.692
         ],
         "theta": [
          "Comprehension",
          "Knowledge",
          "Math",
          "Reasoning",
          "Safety",
          "Comprehension"
         ],
         "type": "scatterpolar"
        },
        {
         "name": "free_sydney_v2_13b.Q6_K.gguf",
         "r": [
          0.708,
          0.534,
          0.24,
          0.4125,
          0.578,
          0.708
         ],
         "theta": [
          "Comprehension",
          "Knowledge",
          "Math",
          "Reasoning",
          "Safety",
          "Comprehension"
         ],
         "type": "scatterpolar"
        },
        {
         "name": "zephyr-7b-beta.Q6_K.gguf",
         "r": [
          0.714,
          0.64,
          0.214,
          0.521,
          0.37,
          0.714
         ],
         "theta": [
          "Comprehension",
          "Knowledge",
          "Math",
          "Reasoning",
          "Safety",
          "Comprehension"
         ],
         "type": "scatterpolar"
        },
        {
         "name": "Mistral-11B-CC-Air.q6_k.gguf",
         "r": [
          0.716,
          0.618,
          0.24,
          0.5015,
          0.486,
          0.716
         ],
         "theta": [
          "Comprehension",
          "Knowledge",
          "Math",
          "Reasoning",
          "Safety",
          "Comprehension"
         ],
         "type": "scatterpolar"
        },
        {
         "name": "augmental-unholy-13b.Q6_K.gguf",
         "r": [
          0.724,
          0.608,
          0.304,
          0.4845,
          0.544,
          0.724
         ],
         "theta": [
          "Comprehension",
          "Knowledge",
          "Math",
          "Reasoning",
          "Safety",
          "Comprehension"
         ],
         "type": "scatterpolar"
        },
        {
         "name": "Mistral-7B-claude-chat.q6_k.gguf",
         "r": [
          0.728,
          0.622,
          0.238,
          0.4585,
          0.514,
          0.728
         ],
         "theta": [
          "Comprehension",
          "Knowledge",
          "Math",
          "Reasoning",
          "Safety",
          "Comprehension"
         ],
         "type": "scatterpolar"
        },
        {
         "name": "yi-6b.Q6_K.gguf",
         "r": [
          0.75,
          0.616,
          0.278,
          0.495,
          0.422,
          0.75
         ],
         "theta": [
          "Comprehension",
          "Knowledge",
          "Math",
          "Reasoning",
          "Safety",
          "Comprehension"
         ],
         "type": "scatterpolar"
        },
        {
         "name": "Mistral-11B-SynthIAirOmniMix.q6_k.gguf",
         "r": [
          0.756,
          0.67,
          0.252,
          0.529,
          0.504,
          0.756
         ],
         "theta": [
          "Comprehension",
          "Knowledge",
          "Math",
          "Reasoning",
          "Safety",
          "Comprehension"
         ],
         "type": "scatterpolar"
        },
        {
         "name": "tulu-30b.Q4_K_S.gguf",
         "r": [
          0.77,
          0.642,
          0.264,
          0.5205,
          0.456,
          0.77
         ],
         "theta": [
          "Comprehension",
          "Knowledge",
          "Math",
          "Reasoning",
          "Safety",
          "Comprehension"
         ],
         "type": "scatterpolar"
        },
        {
         "name": "skywork-13b-base.Q6_K.gguf",
         "r": [
          0.778,
          0.582,
          0.25,
          0.4185,
          0.466,
          0.778
         ],
         "theta": [
          "Comprehension",
          "Knowledge",
          "Math",
          "Reasoning",
          "Safety",
          "Comprehension"
         ],
         "type": "scatterpolar"
        },
        {
         "name": "Toppy-M-7B.q6_k.gguf",
         "r": [
          0.782,
          0.689,
          0.272,
          0.586,
          0.484,
          0.782
         ],
         "theta": [
          "Comprehension",
          "Knowledge",
          "Math",
          "Reasoning",
          "Safety",
          "Comprehension"
         ],
         "type": "scatterpolar"
        },
        {
         "name": "naberius-7b.Q6_K.gguf",
         "r": [
          0.786,
          0.71,
          0.278,
          0.557,
          0.57,
          0.786
         ],
         "theta": [
          "Comprehension",
          "Knowledge",
          "Math",
          "Reasoning",
          "Safety",
          "Comprehension"
         ],
         "type": "scatterpolar"
        },
        {
         "name": "speechless-mistral-six-in-one-7b.Q6.gguf",
         "r": [
          0.786,
          0.701,
          0.246,
          0.579,
          0.552,
          0.786
         ],
         "theta": [
          "Comprehension",
          "Knowledge",
          "Math",
          "Reasoning",
          "Safety",
          "Comprehension"
         ],
         "type": "scatterpolar"
        },
        {
         "name": "mistral-7b-openorca-oasst_top1_2023-08-25-v1.Q6_K.gguf",
         "r": [
          0.792,
          0.698,
          0.268,
          0.6135,
          0.516,
          0.792
         ],
         "theta": [
          "Comprehension",
          "Knowledge",
          "Math",
          "Reasoning",
          "Safety",
          "Comprehension"
         ],
         "type": "scatterpolar"
        },
        {
         "name": "causallm_7b.Q6_K.gguf",
         "r": [
          0.794,
          0.576,
          0.258,
          0.4615,
          0.48,
          0.794
         ],
         "theta": [
          "Comprehension",
          "Knowledge",
          "Math",
          "Reasoning",
          "Safety",
          "Comprehension"
         ],
         "type": "scatterpolar"
        },
        {
         "name": "neural-chat-7b-v3-1_Q5_K_M.gguf",
         "r": [
          0.794,
          0.683,
          0.276,
          0.5615,
          0.646,
          0.794
         ],
         "theta": [
          "Comprehension",
          "Knowledge",
          "Math",
          "Reasoning",
          "Safety",
          "Comprehension"
         ],
         "type": "scatterpolar"
        },
        {
         "name": "dolphin-2.2.1-mistral-7b.Q6_K.gguf",
         "r": [
          0.796,
          0.69,
          0.28,
          0.5615,
          0.622,
          0.796
         ],
         "theta": [
          "Comprehension",
          "Knowledge",
          "Math",
          "Reasoning",
          "Safety",
          "Comprehension"
         ],
         "type": "scatterpolar"
        },
        {
         "name": "openhermes-2.5-mistral-7b.Q6_K.gguf",
         "r": [
          0.796,
          0.717,
          0.258,
          0.5765,
          0.634,
          0.796
         ],
         "theta": [
          "Comprehension",
          "Knowledge",
          "Math",
          "Reasoning",
          "Safety",
          "Comprehension"
         ],
         "type": "scatterpolar"
        },
        {
         "name": "speechless-mistral-dolphin-orca-platypus-samantha-7b.Q6_K.gguf",
         "r": [
          0.81,
          0.704,
          0.258,
          0.588,
          0.524,
          0.81
         ],
         "theta": [
          "Comprehension",
          "Knowledge",
          "Math",
          "Reasoning",
          "Safety",
          "Comprehension"
         ],
         "type": "scatterpolar"
        },
        {
         "name": "openchat_3.5.Q6_K.gguf",
         "r": [
          0.824,
          0.695,
          0.316,
          0.606,
          0.584,
          0.824
         ],
         "theta": [
          "Comprehension",
          "Knowledge",
          "Math",
          "Reasoning",
          "Safety",
          "Comprehension"
         ],
         "type": "scatterpolar"
        },
        {
         "name": "nous-capybara-34b.Q3_K_L.gguf",
         "r": [
          0.846,
          0.76,
          0.264,
          0.557,
          0.608,
          0.846
         ],
         "theta": [
          "Comprehension",
          "Knowledge",
          "Math",
          "Reasoning",
          "Safety",
          "Comprehension"
         ],
         "type": "scatterpolar"
        },
        {
         "name": "dolphin-2_2-yi-34b.Q3_K_L.gguf",
         "r": [
          0.85,
          0.765,
          0.334,
          0.596,
          0.622,
          0.85
         ],
         "theta": [
          "Comprehension",
          "Knowledge",
          "Math",
          "Reasoning",
          "Safety",
          "Comprehension"
         ],
         "type": "scatterpolar"
        },
        {
         "name": "causallm_14b.Q5_1.gguf",
         "r": [
          0.858,
          0.694,
          0.312,
          0.543,
          0.514,
          0.858
         ],
         "theta": [
          "Comprehension",
          "Knowledge",
          "Math",
          "Reasoning",
          "Safety",
          "Comprehension"
         ],
         "type": "scatterpolar"
        },
        {
         "name": "yi-34b-giftedconvo-merged.Q3_K_L.gguf",
         "r": [
          0.858,
          0.774,
          0.286,
          0.558,
          0.646,
          0.858
         ],
         "theta": [
          "Comprehension",
          "Knowledge",
          "Math",
          "Reasoning",
          "Safety",
          "Comprehension"
         ],
         "type": "scatterpolar"
        },
        {
         "name": "yi-34b.Q4_K_S.gguf",
         "r": [
          0.864,
          0.75,
          0.314,
          0.5745,
          0.566,
          0.864
         ],
         "theta": [
          "Comprehension",
          "Knowledge",
          "Math",
          "Reasoning",
          "Safety",
          "Comprehension"
         ],
         "type": "scatterpolar"
        },
        {
         "name": "yi-34b-200k-llamafied.Q3_K_L.gguf",
         "r": [
          0.87,
          0.735,
          0.374,
          0.4985,
          0.644,
          0.87
         ],
         "theta": [
          "Comprehension",
          "Knowledge",
          "Math",
          "Reasoning",
          "Safety",
          "Comprehension"
         ],
         "type": "scatterpolar"
        },
        {
         "name": "platypus-30b.Q4_K_S.gguf",
         "r": [
          0.876,
          0.666,
          0.244,
          0.465,
          0.638,
          0.876
         ],
         "theta": [
          "Comprehension",
          "Knowledge",
          "Math",
          "Reasoning",
          "Safety",
          "Comprehension"
         ],
         "type": "scatterpolar"
        }
       ],
       "layout": {
        "height": 800,
        "legend": {
         "font": {
          "size": 8
         },
         "x": 0,
         "y": 1.5
        },
        "margin": {
         "b": 50,
         "l": 50,
         "r": 50,
         "t": 50
        },
        "paper_bgcolor": "white",
        "plot_bgcolor": "white",
        "polar": {
         "angularaxis": {
          "color": "black",
          "linewidth": 2,
          "showline": true,
          "showticklabels": true,
          "tickangle": 0
         },
         "radialaxis": {
          "color": "black",
          "gridcolor": "black",
          "gridwidth": 1,
          "linewidth": 2,
          "range": [
           0,
           1.1
          ],
          "showline": true,
          "visible": true
         }
        },
        "showlegend": true,
        "template": {
         "data": {
          "bar": [
           {
            "error_x": {
             "color": "#2a3f5f"
            },
            "error_y": {
             "color": "#2a3f5f"
            },
            "marker": {
             "line": {
              "color": "#E5ECF6",
              "width": 0.5
             },
             "pattern": {
              "fillmode": "overlay",
              "size": 10,
              "solidity": 0.2
             }
            },
            "type": "bar"
           }
          ],
          "barpolar": [
           {
            "marker": {
             "line": {
              "color": "#E5ECF6",
              "width": 0.5
             },
             "pattern": {
              "fillmode": "overlay",
              "size": 10,
              "solidity": 0.2
             }
            },
            "type": "barpolar"
           }
          ],
          "carpet": [
           {
            "aaxis": {
             "endlinecolor": "#2a3f5f",
             "gridcolor": "white",
             "linecolor": "white",
             "minorgridcolor": "white",
             "startlinecolor": "#2a3f5f"
            },
            "baxis": {
             "endlinecolor": "#2a3f5f",
             "gridcolor": "white",
             "linecolor": "white",
             "minorgridcolor": "white",
             "startlinecolor": "#2a3f5f"
            },
            "type": "carpet"
           }
          ],
          "choropleth": [
           {
            "colorbar": {
             "outlinewidth": 0,
             "ticks": ""
            },
            "type": "choropleth"
           }
          ],
          "contour": [
           {
            "colorbar": {
             "outlinewidth": 0,
             "ticks": ""
            },
            "colorscale": [
             [
              0,
              "#0d0887"
             ],
             [
              0.1111111111111111,
              "#46039f"
             ],
             [
              0.2222222222222222,
              "#7201a8"
             ],
             [
              0.3333333333333333,
              "#9c179e"
             ],
             [
              0.4444444444444444,
              "#bd3786"
             ],
             [
              0.5555555555555556,
              "#d8576b"
             ],
             [
              0.6666666666666666,
              "#ed7953"
             ],
             [
              0.7777777777777778,
              "#fb9f3a"
             ],
             [
              0.8888888888888888,
              "#fdca26"
             ],
             [
              1,
              "#f0f921"
             ]
            ],
            "type": "contour"
           }
          ],
          "contourcarpet": [
           {
            "colorbar": {
             "outlinewidth": 0,
             "ticks": ""
            },
            "type": "contourcarpet"
           }
          ],
          "heatmap": [
           {
            "colorbar": {
             "outlinewidth": 0,
             "ticks": ""
            },
            "colorscale": [
             [
              0,
              "#0d0887"
             ],
             [
              0.1111111111111111,
              "#46039f"
             ],
             [
              0.2222222222222222,
              "#7201a8"
             ],
             [
              0.3333333333333333,
              "#9c179e"
             ],
             [
              0.4444444444444444,
              "#bd3786"
             ],
             [
              0.5555555555555556,
              "#d8576b"
             ],
             [
              0.6666666666666666,
              "#ed7953"
             ],
             [
              0.7777777777777778,
              "#fb9f3a"
             ],
             [
              0.8888888888888888,
              "#fdca26"
             ],
             [
              1,
              "#f0f921"
             ]
            ],
            "type": "heatmap"
           }
          ],
          "heatmapgl": [
           {
            "colorbar": {
             "outlinewidth": 0,
             "ticks": ""
            },
            "colorscale": [
             [
              0,
              "#0d0887"
             ],
             [
              0.1111111111111111,
              "#46039f"
             ],
             [
              0.2222222222222222,
              "#7201a8"
             ],
             [
              0.3333333333333333,
              "#9c179e"
             ],
             [
              0.4444444444444444,
              "#bd3786"
             ],
             [
              0.5555555555555556,
              "#d8576b"
             ],
             [
              0.6666666666666666,
              "#ed7953"
             ],
             [
              0.7777777777777778,
              "#fb9f3a"
             ],
             [
              0.8888888888888888,
              "#fdca26"
             ],
             [
              1,
              "#f0f921"
             ]
            ],
            "type": "heatmapgl"
           }
          ],
          "histogram": [
           {
            "marker": {
             "pattern": {
              "fillmode": "overlay",
              "size": 10,
              "solidity": 0.2
             }
            },
            "type": "histogram"
           }
          ],
          "histogram2d": [
           {
            "colorbar": {
             "outlinewidth": 0,
             "ticks": ""
            },
            "colorscale": [
             [
              0,
              "#0d0887"
             ],
             [
              0.1111111111111111,
              "#46039f"
             ],
             [
              0.2222222222222222,
              "#7201a8"
             ],
             [
              0.3333333333333333,
              "#9c179e"
             ],
             [
              0.4444444444444444,
              "#bd3786"
             ],
             [
              0.5555555555555556,
              "#d8576b"
             ],
             [
              0.6666666666666666,
              "#ed7953"
             ],
             [
              0.7777777777777778,
              "#fb9f3a"
             ],
             [
              0.8888888888888888,
              "#fdca26"
             ],
             [
              1,
              "#f0f921"
             ]
            ],
            "type": "histogram2d"
           }
          ],
          "histogram2dcontour": [
           {
            "colorbar": {
             "outlinewidth": 0,
             "ticks": ""
            },
            "colorscale": [
             [
              0,
              "#0d0887"
             ],
             [
              0.1111111111111111,
              "#46039f"
             ],
             [
              0.2222222222222222,
              "#7201a8"
             ],
             [
              0.3333333333333333,
              "#9c179e"
             ],
             [
              0.4444444444444444,
              "#bd3786"
             ],
             [
              0.5555555555555556,
              "#d8576b"
             ],
             [
              0.6666666666666666,
              "#ed7953"
             ],
             [
              0.7777777777777778,
              "#fb9f3a"
             ],
             [
              0.8888888888888888,
              "#fdca26"
             ],
             [
              1,
              "#f0f921"
             ]
            ],
            "type": "histogram2dcontour"
           }
          ],
          "mesh3d": [
           {
            "colorbar": {
             "outlinewidth": 0,
             "ticks": ""
            },
            "type": "mesh3d"
           }
          ],
          "parcoords": [
           {
            "line": {
             "colorbar": {
              "outlinewidth": 0,
              "ticks": ""
             }
            },
            "type": "parcoords"
           }
          ],
          "pie": [
           {
            "automargin": true,
            "type": "pie"
           }
          ],
          "scatter": [
           {
            "fillpattern": {
             "fillmode": "overlay",
             "size": 10,
             "solidity": 0.2
            },
            "type": "scatter"
           }
          ],
          "scatter3d": [
           {
            "line": {
             "colorbar": {
              "outlinewidth": 0,
              "ticks": ""
             }
            },
            "marker": {
             "colorbar": {
              "outlinewidth": 0,
              "ticks": ""
             }
            },
            "type": "scatter3d"
           }
          ],
          "scattercarpet": [
           {
            "marker": {
             "colorbar": {
              "outlinewidth": 0,
              "ticks": ""
             }
            },
            "type": "scattercarpet"
           }
          ],
          "scattergeo": [
           {
            "marker": {
             "colorbar": {
              "outlinewidth": 0,
              "ticks": ""
             }
            },
            "type": "scattergeo"
           }
          ],
          "scattergl": [
           {
            "marker": {
             "colorbar": {
              "outlinewidth": 0,
              "ticks": ""
             }
            },
            "type": "scattergl"
           }
          ],
          "scattermapbox": [
           {
            "marker": {
             "colorbar": {
              "outlinewidth": 0,
              "ticks": ""
             }
            },
            "type": "scattermapbox"
           }
          ],
          "scatterpolar": [
           {
            "marker": {
             "colorbar": {
              "outlinewidth": 0,
              "ticks": ""
             }
            },
            "type": "scatterpolar"
           }
          ],
          "scatterpolargl": [
           {
            "marker": {
             "colorbar": {
              "outlinewidth": 0,
              "ticks": ""
             }
            },
            "type": "scatterpolargl"
           }
          ],
          "scatterternary": [
           {
            "marker": {
             "colorbar": {
              "outlinewidth": 0,
              "ticks": ""
             }
            },
            "type": "scatterternary"
           }
          ],
          "surface": [
           {
            "colorbar": {
             "outlinewidth": 0,
             "ticks": ""
            },
            "colorscale": [
             [
              0,
              "#0d0887"
             ],
             [
              0.1111111111111111,
              "#46039f"
             ],
             [
              0.2222222222222222,
              "#7201a8"
             ],
             [
              0.3333333333333333,
              "#9c179e"
             ],
             [
              0.4444444444444444,
              "#bd3786"
             ],
             [
              0.5555555555555556,
              "#d8576b"
             ],
             [
              0.6666666666666666,
              "#ed7953"
             ],
             [
              0.7777777777777778,
              "#fb9f3a"
             ],
             [
              0.8888888888888888,
              "#fdca26"
             ],
             [
              1,
              "#f0f921"
             ]
            ],
            "type": "surface"
           }
          ],
          "table": [
           {
            "cells": {
             "fill": {
              "color": "#EBF0F8"
             },
             "line": {
              "color": "white"
             }
            },
            "header": {
             "fill": {
              "color": "#C8D4E3"
             },
             "line": {
              "color": "white"
             }
            },
            "type": "table"
           }
          ]
         },
         "layout": {
          "annotationdefaults": {
           "arrowcolor": "#2a3f5f",
           "arrowhead": 0,
           "arrowwidth": 1
          },
          "autotypenumbers": "strict",
          "coloraxis": {
           "colorbar": {
            "outlinewidth": 0,
            "ticks": ""
           }
          },
          "colorscale": {
           "diverging": [
            [
             0,
             "#8e0152"
            ],
            [
             0.1,
             "#c51b7d"
            ],
            [
             0.2,
             "#de77ae"
            ],
            [
             0.3,
             "#f1b6da"
            ],
            [
             0.4,
             "#fde0ef"
            ],
            [
             0.5,
             "#f7f7f7"
            ],
            [
             0.6,
             "#e6f5d0"
            ],
            [
             0.7,
             "#b8e186"
            ],
            [
             0.8,
             "#7fbc41"
            ],
            [
             0.9,
             "#4d9221"
            ],
            [
             1,
             "#276419"
            ]
           ],
           "sequential": [
            [
             0,
             "#0d0887"
            ],
            [
             0.1111111111111111,
             "#46039f"
            ],
            [
             0.2222222222222222,
             "#7201a8"
            ],
            [
             0.3333333333333333,
             "#9c179e"
            ],
            [
             0.4444444444444444,
             "#bd3786"
            ],
            [
             0.5555555555555556,
             "#d8576b"
            ],
            [
             0.6666666666666666,
             "#ed7953"
            ],
            [
             0.7777777777777778,
             "#fb9f3a"
            ],
            [
             0.8888888888888888,
             "#fdca26"
            ],
            [
             1,
             "#f0f921"
            ]
           ],
           "sequentialminus": [
            [
             0,
             "#0d0887"
            ],
            [
             0.1111111111111111,
             "#46039f"
            ],
            [
             0.2222222222222222,
             "#7201a8"
            ],
            [
             0.3333333333333333,
             "#9c179e"
            ],
            [
             0.4444444444444444,
             "#bd3786"
            ],
            [
             0.5555555555555556,
             "#d8576b"
            ],
            [
             0.6666666666666666,
             "#ed7953"
            ],
            [
             0.7777777777777778,
             "#fb9f3a"
            ],
            [
             0.8888888888888888,
             "#fdca26"
            ],
            [
             1,
             "#f0f921"
            ]
           ]
          },
          "colorway": [
           "#636efa",
           "#EF553B",
           "#00cc96",
           "#ab63fa",
           "#FFA15A",
           "#19d3f3",
           "#FF6692",
           "#B6E880",
           "#FF97FF",
           "#FECB52"
          ],
          "font": {
           "color": "#2a3f5f"
          },
          "geo": {
           "bgcolor": "white",
           "lakecolor": "white",
           "landcolor": "#E5ECF6",
           "showlakes": true,
           "showland": true,
           "subunitcolor": "white"
          },
          "hoverlabel": {
           "align": "left"
          },
          "hovermode": "closest",
          "mapbox": {
           "style": "light"
          },
          "paper_bgcolor": "white",
          "plot_bgcolor": "#E5ECF6",
          "polar": {
           "angularaxis": {
            "gridcolor": "white",
            "linecolor": "white",
            "ticks": ""
           },
           "bgcolor": "#E5ECF6",
           "radialaxis": {
            "gridcolor": "white",
            "linecolor": "white",
            "ticks": ""
           }
          },
          "scene": {
           "xaxis": {
            "backgroundcolor": "#E5ECF6",
            "gridcolor": "white",
            "gridwidth": 2,
            "linecolor": "white",
            "showbackground": true,
            "ticks": "",
            "zerolinecolor": "white"
           },
           "yaxis": {
            "backgroundcolor": "#E5ECF6",
            "gridcolor": "white",
            "gridwidth": 2,
            "linecolor": "white",
            "showbackground": true,
            "ticks": "",
            "zerolinecolor": "white"
           },
           "zaxis": {
            "backgroundcolor": "#E5ECF6",
            "gridcolor": "white",
            "gridwidth": 2,
            "linecolor": "white",
            "showbackground": true,
            "ticks": "",
            "zerolinecolor": "white"
           }
          },
          "shapedefaults": {
           "line": {
            "color": "#2a3f5f"
           }
          },
          "ternary": {
           "aaxis": {
            "gridcolor": "white",
            "linecolor": "white",
            "ticks": ""
           },
           "baxis": {
            "gridcolor": "white",
            "linecolor": "white",
            "ticks": ""
           },
           "bgcolor": "#E5ECF6",
           "caxis": {
            "gridcolor": "white",
            "linecolor": "white",
            "ticks": ""
           }
          },
          "title": {
           "x": 0.05
          },
          "xaxis": {
           "automargin": true,
           "gridcolor": "white",
           "linecolor": "white",
           "ticks": "",
           "title": {
            "standoff": 15
           },
           "zerolinecolor": "white",
           "zerolinewidth": 2
          },
          "yaxis": {
           "automargin": true,
           "gridcolor": "white",
           "linecolor": "white",
           "ticks": "",
           "title": {
            "standoff": 15
           },
           "zerolinecolor": "white",
           "zerolinewidth": 2
          }
         }
        },
        "width": 800
       }
      }
     },
     "metadata": {},
     "output_type": "display_data"
    }
   ],
   "source": [
    "fig = save_overall_results(results_folder=Path(\"results\"), method=\"plotly\")\n",
    "fig"
   ]
  },
  {
   "cell_type": "code",
   "execution_count": 3,
   "metadata": {},
   "outputs": [
    {
     "name": "stdout",
     "output_type": "stream",
     "text": [
      "shape: (42, 3)\n",
      "┌─────────────────────────────────────────────────────┬──────────────────┬───────┐\n",
      "│ model                                               ┆ normalized_score ┆ score │\n",
      "│ ---                                                 ┆ ---              ┆ ---   │\n",
      "│ str                                                 ┆ f64              ┆ i64   │\n",
      "╞═════════════════════════════════════════════════════╪══════════════════╪═══════╡\n",
      "│ dolphin-2_2-yi-34b.Q3_K_L.gguf                      ┆ 0.635556         ┆ 2860  │\n",
      "│ yi-34b-giftedconvo-merged.Q3_K_L.gguf               ┆ 0.618889         ┆ 2785  │\n",
      "│ yi-34b.Q4_K_S.gguf                                  ┆ 0.615778         ┆ 2771  │\n",
      "│ openchat_3.5.Q6_K.gguf                              ┆ 0.615333         ┆ 2769  │\n",
      "│ nous-capybara-34b.Q3_K_L.gguf                       ┆ 0.607333         ┆ 2733  │\n",
      "│ openhermes-2.5-mistral-7b.Q6_K.gguf                 ┆ 0.603111         ┆ 2714  │\n",
      "│ mistral-7b-openorca-oasst_top1_2023-08-25-v1.Q6_K.… ┆ 0.602889         ┆ 2713  │\n",
      "│ yi-34b-200k-llamafied.Q3_K_L.gguf                   ┆ 0.594667         ┆ 2676  │\n",
      "│ speechless-mistral-dolphin-orca-platypus-samantha-… ┆ 0.594667         ┆ 2676  │\n",
      "│ neural-chat-7b-v3-1_Q5_K_M.gguf                     ┆ 0.592            ┆ 2664  │\n",
      "│ dolphin-2.2.1-mistral-7b.Q6_K.gguf                  ┆ 0.591556         ┆ 2662  │\n",
      "│ speechless-mistral-six-in-one-7b.Q6.gguf            ┆ 0.589111         ┆ 2651  │\n",
      "│ naberius-7b.Q6_K.gguf                               ┆ 0.586889         ┆ 2641  │\n",
      "│ Toppy-M-7B.q6_k.gguf                                ┆ 0.584444         ┆ 2630  │\n",
      "│ causallm_14b.Q5_1.gguf                              ┆ 0.582667         ┆ 2622  │\n",
      "│ Mistral-11B-SynthIAirOmniMix.q6_k.gguf              ┆ 0.552            ┆ 2484  │\n",
      "│ platypus-30b.Q4_K_S.gguf                            ┆ 0.55             ┆ 2475  │\n",
      "│ tulu-30b.Q4_K_S.gguf                                ┆ 0.539556         ┆ 2428  │\n",
      "│ augmental-unholy-13b.Q6_K.gguf                      ┆ 0.525111         ┆ 2363  │\n",
      "│ Mistral-11B-CC-Air.q6_k.gguf                        ┆ 0.520444         ┆ 2342  │\n",
      "│ yi-6b.Q6_K.gguf                                     ┆ 0.518            ┆ 2331  │\n",
      "│ zephyr-7b-beta.Q6_K.gguf                            ┆ 0.518            ┆ 2331  │\n",
      "│ Mistral-7B-claude-chat.q6_k.gguf                    ┆ 0.506444         ┆ 2279  │\n",
      "│ LLaMA2-13B-Tiefighter.Q6_K.gguf                     ┆ 0.504            ┆ 2268  │\n",
      "│ causallm_7b.Q6_K.gguf                               ┆ 0.503333         ┆ 2265  │\n",
      "│ mistrallite.Q6_K.gguf                               ┆ 0.484222         ┆ 2179  │\n",
      "│ xwin-lm-13b-v0.2.Q6_K.gguf                          ┆ 0.482667         ┆ 2172  │\n",
      "│ skywork-13b-base.Q6_K.gguf                          ┆ 0.481333         ┆ 2166  │\n",
      "│ free_sydney_v2_13b.Q6_K.gguf                        ┆ 0.471556         ┆ 2122  │\n",
      "│ Capybara-7B-V1.9-Q5_K_M.gguf                        ┆ 0.466667         ┆ 2100  │\n",
      "│ Nous-Capybara-7B-V1.9.f16.gguf                      ┆ 0.465778         ┆ 2096  │\n",
      "│ nous-capybara-7b-v1.9.Q6_K.gguf                     ┆ 0.463111         ┆ 2084  │\n",
      "│ cat-v1.0-13b.Q6_K.gguf                              ┆ 0.442222         ┆ 1990  │\n",
      "│ Nous-Capybara-3B-V1.9.Q6_K.gguf                     ┆ 0.390667         ┆ 1758  │\n",
      "│ deepseek-coder-33b-instruct.Q4_K_S.gguf             ┆ 0.369778         ┆ 1664  │\n",
      "│ deepseek-coder-6.7b-instruct.Q6_K.gguf              ┆ 0.332444         ┆ 1496  │\n",
      "│ tinyllama-1.1b-chat-v0.3.Q6_K.gguf                  ┆ 0.328667         ┆ 1479  │\n",
      "│ calm2-7b-chat.Q6_K.gguf                             ┆ 0.325778         ┆ 1466  │\n",
      "│ tinyllama-1.1b-intermediate-step-715k-1.5t.q6_k.gg… ┆ 0.321111         ┆ 1445  │\n",
      "│ tinyllama-1.1b-intermediate-step-480k-1t.Q6_K.gguf  ┆ 0.319778         ┆ 1439  │\n",
      "│ deepseek-coder-1.3b-instruct.Q6_K.gguf              ┆ 0.207333         ┆ 933   │\n",
      "│ cyberagent-calm2-7b-chat-q6_K.gguf                  ┆ 0.011111         ┆ 50    │\n",
      "└─────────────────────────────────────────────────────┴──────────────────┴───────┘\n"
     ]
    }
   ],
   "source": [
    "results_df = pl.read_parquet(Path(\"results/results.parquet\"))\n",
    "# sort by score\n",
    "results_df = results_df.sort(\"score\").reverse()\n",
    "# extract score and model columns\n",
    "# max model col width\n",
    "with pl.Config(fmt_str_lengths=50, tbl_rows=1000):\n",
    "    print(results_df.select([\"model\", \"normalized_score\", \"score\"]))"
   ]
  },
  {
   "cell_type": "code",
   "execution_count": 4,
   "metadata": {},
   "outputs": [
    {
     "data": {
      "text/html": [
       "<div><style>\n",
       ".dataframe > thead > tr > th,\n",
       ".dataframe > tbody > tr > td {\n",
       "  text-align: right;\n",
       "  white-space: pre-wrap;\n",
       "}\n",
       "</style>\n",
       "<small>shape: (42, 7)</small><table border=\"1\" class=\"dataframe\"><thead><tr><th>model</th><th>normalized_score</th><th>Comprehension/Reading Comprehension</th><th>Knowledge/Multi-subject Test</th><th>Math/Mathmatical Reasoning</th><th>Reasoning/Commonsense Reasoning</th><th>Safety/Truthfulness</th></tr><tr><td>str</td><td>f64</td><td>f64</td><td>f64</td><td>f64</td><td>f64</td><td>f64</td></tr></thead><tbody><tr><td>&quot;dolphin-2_2-yi…</td><td>0.635556</td><td>0.85</td><td>0.765</td><td>0.334</td><td>0.596</td><td>0.622</td></tr><tr><td>&quot;yi-34b-giftedc…</td><td>0.618889</td><td>0.858</td><td>0.774</td><td>0.286</td><td>0.558</td><td>0.646</td></tr><tr><td>&quot;yi-34b.Q4_K_S.…</td><td>0.615778</td><td>0.864</td><td>0.75</td><td>0.314</td><td>0.5745</td><td>0.566</td></tr><tr><td>&quot;openchat_3.5.Q…</td><td>0.615333</td><td>0.824</td><td>0.695</td><td>0.316</td><td>0.606</td><td>0.584</td></tr><tr><td>&quot;nous-capybara-…</td><td>0.607333</td><td>0.846</td><td>0.76</td><td>0.264</td><td>0.557</td><td>0.608</td></tr><tr><td>&quot;openhermes-2.5…</td><td>0.603111</td><td>0.796</td><td>0.717</td><td>0.258</td><td>0.5765</td><td>0.634</td></tr><tr><td>&quot;mistral-7b-ope…</td><td>0.602889</td><td>0.792</td><td>0.698</td><td>0.268</td><td>0.6135</td><td>0.516</td></tr><tr><td>&quot;yi-34b-200k-ll…</td><td>0.594667</td><td>0.87</td><td>0.735</td><td>0.374</td><td>0.4985</td><td>0.644</td></tr><tr><td>&quot;speechless-mis…</td><td>0.594667</td><td>0.81</td><td>0.704</td><td>0.258</td><td>0.588</td><td>0.524</td></tr><tr><td>&quot;neural-chat-7b…</td><td>0.592</td><td>0.794</td><td>0.683</td><td>0.276</td><td>0.5615</td><td>0.646</td></tr><tr><td>&quot;dolphin-2.2.1-…</td><td>0.591556</td><td>0.796</td><td>0.69</td><td>0.28</td><td>0.5615</td><td>0.622</td></tr><tr><td>&quot;speechless-mis…</td><td>0.589111</td><td>0.786</td><td>0.701</td><td>0.246</td><td>0.579</td><td>0.552</td></tr><tr><td>&hellip;</td><td>&hellip;</td><td>&hellip;</td><td>&hellip;</td><td>&hellip;</td><td>&hellip;</td><td>&hellip;</td></tr><tr><td>&quot;Nous-Capybara-…</td><td>0.465778</td><td>0.672</td><td>0.598</td><td>0.218</td><td>0.4575</td><td>0.276</td></tr><tr><td>&quot;nous-capybara-…</td><td>0.463111</td><td>0.67</td><td>0.594</td><td>0.218</td><td>0.4525</td><td>0.282</td></tr><tr><td>&quot;cat-v1.0-13b.Q…</td><td>0.442222</td><td>0.636</td><td>0.52</td><td>0.234</td><td>0.4105</td><td>0.428</td></tr><tr><td>&quot;Nous-Capybara-…</td><td>0.390667</td><td>0.534</td><td>0.451</td><td>0.212</td><td>0.4055</td><td>0.246</td></tr><tr><td>&quot;deepseek-coder…</td><td>0.369778</td><td>0.502</td><td>0.373</td><td>0.254</td><td>0.2995</td><td>0.628</td></tr><tr><td>&quot;deepseek-coder…</td><td>0.332444</td><td>0.474</td><td>0.354</td><td>0.246</td><td>0.2715</td><td>0.478</td></tr><tr><td>&quot;tinyllama-1.1b…</td><td>0.328667</td><td>0.242</td><td>0.264</td><td>0.224</td><td>0.316</td><td>0.7</td></tr><tr><td>&quot;calm2-7b-chat.…</td><td>0.325778</td><td>0.41</td><td>0.34</td><td>0.208</td><td>0.356</td><td>0.21</td></tr><tr><td>&quot;tinyllama-1.1b…</td><td>0.321111</td><td>0.256</td><td>0.227</td><td>0.204</td><td>0.3195</td><td>0.698</td></tr><tr><td>&quot;tinyllama-1.1b…</td><td>0.319778</td><td>0.246</td><td>0.252</td><td>0.2</td><td>0.317</td><td>0.66</td></tr><tr><td>&quot;deepseek-coder…</td><td>0.207333</td><td>0.178</td><td>0.186</td><td>0.168</td><td>0.257</td><td>0.12</td></tr><tr><td>&quot;cyberagent-cal…</td><td>0.011111</td><td>0.0</td><td>0.002</td><td>0.0</td><td>0.022</td><td>0.008</td></tr></tbody></table></div>"
      ],
      "text/plain": [
       "shape: (42, 7)\n",
       "┌──────────────┬─────────────┬─────────────┬─────────────┬─────────────┬─────────────┬─────────────┐\n",
       "│ model        ┆ normalized_ ┆ Comprehensi ┆ Knowledge/M ┆ Math/Mathma ┆ Reasoning/C ┆ Safety/Trut │\n",
       "│ ---          ┆ score       ┆ on/Reading  ┆ ulti-subjec ┆ tical       ┆ ommonsense  ┆ hfulness    │\n",
       "│ str          ┆ ---         ┆ Comprehens… ┆ t Test      ┆ Reasoning   ┆ Reasoning   ┆ ---         │\n",
       "│              ┆ f64         ┆ ---         ┆ ---         ┆ ---         ┆ ---         ┆ f64         │\n",
       "│              ┆             ┆ f64         ┆ f64         ┆ f64         ┆ f64         ┆             │\n",
       "╞══════════════╪═════════════╪═════════════╪═════════════╪═════════════╪═════════════╪═════════════╡\n",
       "│ dolphin-2_2- ┆ 0.635556    ┆ 0.85        ┆ 0.765       ┆ 0.334       ┆ 0.596       ┆ 0.622       │\n",
       "│ yi-34b.Q3_K_ ┆             ┆             ┆             ┆             ┆             ┆             │\n",
       "│ L.gguf       ┆             ┆             ┆             ┆             ┆             ┆             │\n",
       "│ yi-34b-gifte ┆ 0.618889    ┆ 0.858       ┆ 0.774       ┆ 0.286       ┆ 0.558       ┆ 0.646       │\n",
       "│ dconvo-merge ┆             ┆             ┆             ┆             ┆             ┆             │\n",
       "│ d.Q3_K_L…    ┆             ┆             ┆             ┆             ┆             ┆             │\n",
       "│ yi-34b.Q4_K_ ┆ 0.615778    ┆ 0.864       ┆ 0.75        ┆ 0.314       ┆ 0.5745      ┆ 0.566       │\n",
       "│ S.gguf       ┆             ┆             ┆             ┆             ┆             ┆             │\n",
       "│ openchat_3.5 ┆ 0.615333    ┆ 0.824       ┆ 0.695       ┆ 0.316       ┆ 0.606       ┆ 0.584       │\n",
       "│ .Q6_K.gguf   ┆             ┆             ┆             ┆             ┆             ┆             │\n",
       "│ …            ┆ …           ┆ …           ┆ …           ┆ …           ┆ …           ┆ …           │\n",
       "│ tinyllama-1. ┆ 0.321111    ┆ 0.256       ┆ 0.227       ┆ 0.204       ┆ 0.3195      ┆ 0.698       │\n",
       "│ 1b-intermedi ┆             ┆             ┆             ┆             ┆             ┆             │\n",
       "│ ate-step…    ┆             ┆             ┆             ┆             ┆             ┆             │\n",
       "│ tinyllama-1. ┆ 0.319778    ┆ 0.246       ┆ 0.252       ┆ 0.2         ┆ 0.317       ┆ 0.66        │\n",
       "│ 1b-intermedi ┆             ┆             ┆             ┆             ┆             ┆             │\n",
       "│ ate-step…    ┆             ┆             ┆             ┆             ┆             ┆             │\n",
       "│ deepseek-cod ┆ 0.207333    ┆ 0.178       ┆ 0.186       ┆ 0.168       ┆ 0.257       ┆ 0.12        │\n",
       "│ er-1.3b-inst ┆             ┆             ┆             ┆             ┆             ┆             │\n",
       "│ ruct.Q6_…    ┆             ┆             ┆             ┆             ┆             ┆             │\n",
       "│ cyberagent-c ┆ 0.011111    ┆ 0.0         ┆ 0.002       ┆ 0.0         ┆ 0.022       ┆ 0.008       │\n",
       "│ alm2-7b-chat ┆             ┆             ┆             ┆             ┆             ┆             │\n",
       "│ -q6_K.gg…    ┆             ┆             ┆             ┆             ┆             ┆             │\n",
       "└──────────────┴─────────────┴─────────────┴─────────────┴─────────────┴─────────────┴─────────────┘"
      ]
     },
     "execution_count": 4,
     "metadata": {},
     "output_type": "execute_result"
    }
   ],
   "source": [
    "row_dicts = results_df.select([\"model\", \"normalized_score\", \"normalized_category_scores\"]).to_dicts()\n",
    "for row in row_dicts:\n",
    "    for d in sorted(list(row[\"normalized_category_scores\"])):\n",
    "        row[d] = row[\"normalized_category_scores\"].get(d)\n",
    "    del row[\"normalized_category_scores\"]\n",
    "scores_df = pl.DataFrame(row_dicts)\n",
    "scores_df\n"
   ]
  },
  {
   "cell_type": "code",
   "execution_count": 5,
   "metadata": {},
   "outputs": [
    {
     "data": {
      "text/html": [
       "<div><style>\n",
       ".dataframe > thead > tr > th,\n",
       ".dataframe > tbody > tr > td {\n",
       "  text-align: right;\n",
       "  white-space: pre-wrap;\n",
       "}\n",
       "</style>\n",
       "<small>shape: (42, 12)</small><table border=\"1\" class=\"dataframe\"><thead><tr><th>model</th><th>normalized_score</th><th>score</th><th>ai2_arc-arc-challenge-test</th><th>alekseykorshuk_hellaswag-arc-easy-validation</th><th>anli--test_r1</th><th>cais_mmlu-all-validation</th><th>cosmos_qa--validation</th><th>math_qa--validation</th><th>race-high-validation</th><th>truthful_qa-multiple_choice-validation</th><th>winogrande-winogrande_s-validation</th></tr><tr><td>str</td><td>f64</td><td>i64</td><td>f64</td><td>f64</td><td>f64</td><td>f64</td><td>f64</td><td>f64</td><td>f64</td><td>f64</td><td>f64</td></tr></thead><tbody><tr><td>&quot;dolphin-2_2-yi…</td><td>0.635556</td><td>2860</td><td>0.876</td><td>0.754</td><td>0.64</td><td>0.654</td><td>0.852</td><td>0.334</td><td>0.85</td><td>0.622</td><td>0.138</td></tr><tr><td>&quot;yi-34b-giftedc…</td><td>0.618889</td><td>2785</td><td>0.882</td><td>0.614</td><td>0.622</td><td>0.666</td><td>0.862</td><td>0.286</td><td>0.858</td><td>0.646</td><td>0.134</td></tr><tr><td>&quot;yi-34b.Q4_K_S.…</td><td>0.615778</td><td>2771</td><td>0.868</td><td>0.766</td><td>0.538</td><td>0.632</td><td>0.866</td><td>0.314</td><td>0.864</td><td>0.566</td><td>0.128</td></tr><tr><td>&quot;openchat_3.5.Q…</td><td>0.615333</td><td>2769</td><td>0.808</td><td>0.702</td><td>0.686</td><td>0.582</td><td>0.826</td><td>0.316</td><td>0.824</td><td>0.584</td><td>0.21</td></tr><tr><td>&quot;nous-capybara-…</td><td>0.607333</td><td>2733</td><td>0.864</td><td>0.68</td><td>0.558</td><td>0.656</td><td>0.862</td><td>0.264</td><td>0.846</td><td>0.608</td><td>0.128</td></tr><tr><td>&quot;openhermes-2.5…</td><td>0.603111</td><td>2714</td><td>0.83</td><td>0.682</td><td>0.638</td><td>0.604</td><td>0.798</td><td>0.258</td><td>0.796</td><td>0.634</td><td>0.188</td></tr><tr><td>&quot;mistral-7b-ope…</td><td>0.602889</td><td>2713</td><td>0.808</td><td>0.666</td><td>0.65</td><td>0.588</td><td>0.798</td><td>0.268</td><td>0.792</td><td>0.516</td><td>0.34</td></tr><tr><td>&quot;yi-34b-200k-ll…</td><td>0.594667</td><td>2676</td><td>0.858</td><td>0.672</td><td>0.466</td><td>0.612</td><td>0.85</td><td>0.374</td><td>0.87</td><td>0.644</td><td>0.006</td></tr><tr><td>&quot;speechless-mis…</td><td>0.594667</td><td>2676</td><td>0.83</td><td>0.686</td><td>0.65</td><td>0.578</td><td>0.792</td><td>0.258</td><td>0.81</td><td>0.524</td><td>0.224</td></tr><tr><td>&quot;neural-chat-7b…</td><td>0.592</td><td>2664</td><td>0.796</td><td>0.702</td><td>0.57</td><td>0.57</td><td>0.746</td><td>0.276</td><td>0.794</td><td>0.646</td><td>0.228</td></tr><tr><td>&quot;dolphin-2.2.1-…</td><td>0.591556</td><td>2662</td><td>0.814</td><td>0.668</td><td>0.632</td><td>0.566</td><td>0.784</td><td>0.28</td><td>0.796</td><td>0.622</td><td>0.162</td></tr><tr><td>&quot;speechless-mis…</td><td>0.589111</td><td>2651</td><td>0.826</td><td>0.686</td><td>0.624</td><td>0.576</td><td>0.794</td><td>0.246</td><td>0.786</td><td>0.552</td><td>0.212</td></tr><tr><td>&hellip;</td><td>&hellip;</td><td>&hellip;</td><td>&hellip;</td><td>&hellip;</td><td>&hellip;</td><td>&hellip;</td><td>&hellip;</td><td>&hellip;</td><td>&hellip;</td><td>&hellip;</td><td>&hellip;</td></tr><tr><td>&quot;Nous-Capybara-…</td><td>0.465778</td><td>2096</td><td>0.692</td><td>0.492</td><td>0.384</td><td>0.504</td><td>0.626</td><td>0.218</td><td>0.672</td><td>0.276</td><td>0.328</td></tr><tr><td>&quot;nous-capybara-…</td><td>0.463111</td><td>2084</td><td>0.688</td><td>0.494</td><td>0.354</td><td>0.5</td><td>0.63</td><td>0.218</td><td>0.67</td><td>0.282</td><td>0.332</td></tr><tr><td>&quot;cat-v1.0-13b.Q…</td><td>0.442222</td><td>1990</td><td>0.594</td><td>0.398</td><td>0.356</td><td>0.446</td><td>0.616</td><td>0.234</td><td>0.636</td><td>0.428</td><td>0.272</td></tr><tr><td>&quot;Nous-Capybara-…</td><td>0.390667</td><td>1758</td><td>0.47</td><td>0.398</td><td>0.3</td><td>0.432</td><td>0.448</td><td>0.212</td><td>0.534</td><td>0.246</td><td>0.476</td></tr><tr><td>&quot;deepseek-coder…</td><td>0.369778</td><td>1664</td><td>0.418</td><td>0.298</td><td>0.366</td><td>0.328</td><td>0.362</td><td>0.254</td><td>0.502</td><td>0.628</td><td>0.172</td></tr><tr><td>&quot;deepseek-coder…</td><td>0.332444</td><td>1496</td><td>0.394</td><td>0.296</td><td>0.332</td><td>0.314</td><td>0.368</td><td>0.246</td><td>0.474</td><td>0.478</td><td>0.09</td></tr><tr><td>&quot;tinyllama-1.1b…</td><td>0.328667</td><td>1479</td><td>0.262</td><td>0.22</td><td>0.348</td><td>0.266</td><td>0.212</td><td>0.224</td><td>0.242</td><td>0.7</td><td>0.484</td></tr><tr><td>&quot;calm2-7b-chat.…</td><td>0.325778</td><td>1466</td><td>0.364</td><td>0.282</td><td>0.342</td><td>0.316</td><td>0.334</td><td>0.208</td><td>0.41</td><td>0.21</td><td>0.466</td></tr><tr><td>&quot;tinyllama-1.1b…</td><td>0.321111</td><td>1445</td><td>0.222</td><td>0.258</td><td>0.296</td><td>0.232</td><td>0.25</td><td>0.204</td><td>0.256</td><td>0.698</td><td>0.474</td></tr><tr><td>&quot;tinyllama-1.1b…</td><td>0.319778</td><td>1439</td><td>0.238</td><td>0.234</td><td>0.31</td><td>0.266</td><td>0.242</td><td>0.2</td><td>0.246</td><td>0.66</td><td>0.482</td></tr><tr><td>&quot;deepseek-coder…</td><td>0.207333</td><td>933</td><td>0.166</td><td>0.228</td><td>0.21</td><td>0.206</td><td>0.108</td><td>0.168</td><td>0.178</td><td>0.12</td><td>0.482</td></tr><tr><td>&quot;cyberagent-cal…</td><td>0.011111</td><td>50</td><td>0.002</td><td>0.002</td><td>0.0</td><td>0.002</td><td>0.0</td><td>0.0</td><td>0.0</td><td>0.008</td><td>0.086</td></tr></tbody></table></div>"
      ],
      "text/plain": [
       "shape: (42, 12)\n",
       "┌────────────┬────────────┬───────┬────────────┬───┬───────────┬───────────┬───────────┬───────────┐\n",
       "│ model      ┆ normalized ┆ score ┆ ai2_arc-ar ┆ … ┆ math_qa-- ┆ race-high ┆ truthful_ ┆ winogrand │\n",
       "│ ---        ┆ _score     ┆ ---   ┆ c-challeng ┆   ┆ validatio ┆ -validati ┆ qa-multip ┆ e-winogra │\n",
       "│ str        ┆ ---        ┆ i64   ┆ e-test     ┆   ┆ n         ┆ on        ┆ le_choice ┆ nde_s-val │\n",
       "│            ┆ f64        ┆       ┆ ---        ┆   ┆ ---       ┆ ---       ┆ -vali…    ┆ idati…    │\n",
       "│            ┆            ┆       ┆ f64        ┆   ┆ f64       ┆ f64       ┆ ---       ┆ ---       │\n",
       "│            ┆            ┆       ┆            ┆   ┆           ┆           ┆ f64       ┆ f64       │\n",
       "╞════════════╪════════════╪═══════╪════════════╪═══╪═══════════╪═══════════╪═══════════╪═══════════╡\n",
       "│ dolphin-2_ ┆ 0.635556   ┆ 2860  ┆ 0.876      ┆ … ┆ 0.334     ┆ 0.85      ┆ 0.622     ┆ 0.138     │\n",
       "│ 2-yi-34b.Q ┆            ┆       ┆            ┆   ┆           ┆           ┆           ┆           │\n",
       "│ 3_K_L.gguf ┆            ┆       ┆            ┆   ┆           ┆           ┆           ┆           │\n",
       "│ yi-34b-gif ┆ 0.618889   ┆ 2785  ┆ 0.882      ┆ … ┆ 0.286     ┆ 0.858     ┆ 0.646     ┆ 0.134     │\n",
       "│ tedconvo-m ┆            ┆       ┆            ┆   ┆           ┆           ┆           ┆           │\n",
       "│ erged.Q3_K ┆            ┆       ┆            ┆   ┆           ┆           ┆           ┆           │\n",
       "│ _L…        ┆            ┆       ┆            ┆   ┆           ┆           ┆           ┆           │\n",
       "│ yi-34b.Q4_ ┆ 0.615778   ┆ 2771  ┆ 0.868      ┆ … ┆ 0.314     ┆ 0.864     ┆ 0.566     ┆ 0.128     │\n",
       "│ K_S.gguf   ┆            ┆       ┆            ┆   ┆           ┆           ┆           ┆           │\n",
       "│ openchat_3 ┆ 0.615333   ┆ 2769  ┆ 0.808      ┆ … ┆ 0.316     ┆ 0.824     ┆ 0.584     ┆ 0.21      │\n",
       "│ .5.Q6_K.gg ┆            ┆       ┆            ┆   ┆           ┆           ┆           ┆           │\n",
       "│ uf         ┆            ┆       ┆            ┆   ┆           ┆           ┆           ┆           │\n",
       "│ …          ┆ …          ┆ …     ┆ …          ┆ … ┆ …         ┆ …         ┆ …         ┆ …         │\n",
       "│ tinyllama- ┆ 0.321111   ┆ 1445  ┆ 0.222      ┆ … ┆ 0.204     ┆ 0.256     ┆ 0.698     ┆ 0.474     │\n",
       "│ 1.1b-inter ┆            ┆       ┆            ┆   ┆           ┆           ┆           ┆           │\n",
       "│ mediate-st ┆            ┆       ┆            ┆   ┆           ┆           ┆           ┆           │\n",
       "│ ep…        ┆            ┆       ┆            ┆   ┆           ┆           ┆           ┆           │\n",
       "│ tinyllama- ┆ 0.319778   ┆ 1439  ┆ 0.238      ┆ … ┆ 0.2       ┆ 0.246     ┆ 0.66      ┆ 0.482     │\n",
       "│ 1.1b-inter ┆            ┆       ┆            ┆   ┆           ┆           ┆           ┆           │\n",
       "│ mediate-st ┆            ┆       ┆            ┆   ┆           ┆           ┆           ┆           │\n",
       "│ ep…        ┆            ┆       ┆            ┆   ┆           ┆           ┆           ┆           │\n",
       "│ deepseek-c ┆ 0.207333   ┆ 933   ┆ 0.166      ┆ … ┆ 0.168     ┆ 0.178     ┆ 0.12      ┆ 0.482     │\n",
       "│ oder-1.3b- ┆            ┆       ┆            ┆   ┆           ┆           ┆           ┆           │\n",
       "│ instruct.Q ┆            ┆       ┆            ┆   ┆           ┆           ┆           ┆           │\n",
       "│ 6_…        ┆            ┆       ┆            ┆   ┆           ┆           ┆           ┆           │\n",
       "│ cyberagent ┆ 0.011111   ┆ 50    ┆ 0.002      ┆ … ┆ 0.0       ┆ 0.0       ┆ 0.008     ┆ 0.086     │\n",
       "│ -calm2-7b- ┆            ┆       ┆            ┆   ┆           ┆           ┆           ┆           │\n",
       "│ chat-q6_K. ┆            ┆       ┆            ┆   ┆           ┆           ┆           ┆           │\n",
       "│ gg…        ┆            ┆       ┆            ┆   ┆           ┆           ┆           ┆           │\n",
       "└────────────┴────────────┴───────┴────────────┴───┴───────────┴───────────┴───────────┴───────────┘"
      ]
     },
     "execution_count": 5,
     "metadata": {},
     "output_type": "execute_result"
    }
   ],
   "source": [
    "row_dicts = results_df.select([\"model\", \"normalized_score\", \"score\", \"normalized_scores\"]).to_dicts()\n",
    "for row in row_dicts:\n",
    "    for d in sorted(list(row[\"normalized_scores\"])):\n",
    "        row[d] = row[\"normalized_scores\"].get(d)\n",
    "    del row[\"normalized_scores\"]\n",
    "scores_df = pl.DataFrame(row_dicts)\n",
    "scores_df"
   ]
  },
  {
   "cell_type": "code",
   "execution_count": 6,
   "metadata": {},
   "outputs": [
    {
     "data": {
      "text/plain": [
       "[('normalized_score', 0.6069111111111111),\n",
       " ('score', 2731.1),\n",
       " ('ai2_arc-arc-challenge-test', 0.8552),\n",
       " ('alekseykorshuk_hellaswag-arc-easy-validation', 0.6878),\n",
       " ('anli--test_r1', 0.6374),\n",
       " ('cais_mmlu-all-validation', 0.6112),\n",
       " ('cosmos_qa--validation', 0.8475999999999999),\n",
       " ('math_qa--validation', 0.3112),\n",
       " ('race-high-validation', 0.8572),\n",
       " ('truthful_qa-multiple_choice-validation', 0.6458),\n",
       " ('winogrande-winogrande_s-validation', 0.4758)]"
      ]
     },
     "execution_count": 6,
     "metadata": {},
     "output_type": "execute_result"
    }
   ],
   "source": [
    "df = scores_df.to_pandas()\n",
    "# extract all columns with float or int type\n",
    "\n",
    "list(zip(df.select_dtypes(include=[\"float\", \"int\"]).quantile(0.9).index.tolist(), df.select_dtypes(include=[\"float\", \"int\"]).quantile(0.9).to_list()))"
   ]
  },
  {
   "cell_type": "code",
   "execution_count": 7,
   "metadata": {},
   "outputs": [
    {
     "data": {
      "text/html": [
       "\n",
       "        <iframe\n",
       "            width=\"100%\"\n",
       "            height=\"650\"\n",
       "            src=\"http://127.0.0.1:8050/\"\n",
       "            frameborder=\"0\"\n",
       "            allowfullscreen\n",
       "            \n",
       "        ></iframe>\n",
       "        "
      ],
      "text/plain": [
       "<IPython.lib.display.IFrame at 0x2821040a0>"
      ]
     },
     "metadata": {},
     "output_type": "display_data"
    }
   ],
   "source": [
    "# using dash, create a table\n",
    "app = dash.Dash(__name__)\n",
    "\n",
    "app.layout = dash.dash_table.DataTable(\n",
    "    id=\"table\",\n",
    "    columns=[{\"name\": i, \"id\": i} for i in scores_df.columns],\n",
    "    data=df.to_dict(\"records\"),\n",
    "    style_cell={\"textAlign\": \"left\"},\n",
    "    sort_action=\"native\",\n",
    "    # highlight highest value in each column by green and lowest by red\n",
    "    style_data_conditional=[\n",
    "        {\n",
    "            'if': {\n",
    "                'filter_query': '{{{}}} >= {}'.format(col, value),\n",
    "                'column_id': col\n",
    "            },\n",
    "            'backgroundColor': 'green',\n",
    "            'color': 'white'\n",
    "        } for (col, value) in list(zip(df.select_dtypes(include=[\"float\", \"int\"]).quantile(0.9).index.tolist(), df.select_dtypes(include=[\"float\", \"int\"]).quantile(0.95).to_list()))\n",
    "    ] + [\n",
    "        {\n",
    "            'if': {\n",
    "                'filter_query': '{{{}}} <= {}'.format(col, value),\n",
    "                'column_id': col\n",
    "            },\n",
    "            'backgroundColor': 'red',\n",
    "            'color': 'white'\n",
    "        } for (col, value) in list(zip(df.select_dtypes(include=[\"float\", \"int\"]).quantile(0.9).index.tolist(), df.select_dtypes(include=[\"float\", \"int\"]).quantile(0.1).to_list()))\n",
    "    ],\n",
    "    style_header={\n",
    "        'backgroundColor': 'rgb(30, 30, 30)',\n",
    "        'color': 'white'\n",
    "    },\n",
    "    style_data={\n",
    "        'backgroundColor': 'rgb(50, 50, 50)',\n",
    "        'color': 'white'\n",
    "    },\n",
    ")\n",
    "# dark theme\n",
    "\n",
    "\n",
    "app.run_server(debug=True, use_reloader=False)  # Turn off reloader if inside Jupyter"
   ]
  },
  {
   "cell_type": "code",
   "execution_count": 8,
   "metadata": {},
   "outputs": [],
   "source": [
    "# from transformers import AutoTokenizer\n",
    "# from petals import AutoDistributedModelForCausalLM\n",
    "\n",
    "# # Choose any model available at https://health.petals.dev\n",
    "# model_name = \"petals-team/StableBeluga2\"  # This one is fine-tuned Llama 2 (70B)\n",
    "\n",
    "# # Connect to a distributed network hosting model layers\n",
    "# tokenizer = AutoTokenizer.from_pretrained(model_name)\n",
    "# model = AutoDistributedModelForCausalLM.from_pretrained(model_name)\n",
    "# prompt = \"\"\"\n",
    "# There are three sisters in a room alone. Anna is reading a book. Alice is playing a game called Zonda. Zonda requires two people to play it.\n",
    "# What is the third sister, Amanda, most likely doing? Explain why.\n",
    "# Select from the following options:\n",
    "# (A) Also reading a book, like Anna\n",
    "# (B) Having music lessons from Alice\n",
    "# (C) Playing Zonda with Alice\n",
    "# (D) Observing the other sisters, while they do their activities only\n",
    "# (E) Trying to think of something to so\n",
    "# Answer: (\n",
    "# \"\"\"\n",
    "# from time import time\n",
    "# # Run the model as if it were on your computer\n",
    "# inputs = tokenizer(prompt, return_tensors=\"pt\")[\"input_ids\"]\n",
    "# s = time()\n",
    "# outputs = model.generate(inputs, max_new_tokens=100)\n",
    "# print(tokenizer.decode(outputs[0]))\n",
    "# print(f\"Time taken: {time() - s:.2f}s\")"
   ]
  },
  {
   "cell_type": "code",
   "execution_count": 9,
   "metadata": {},
   "outputs": [
    {
     "name": "stdout",
     "output_type": "stream",
     "text": [
      "results/zephyr-7b-beta.Q6_K.gguf-ms-1-ds-1-2023-11-01T03-04-40-459619\n",
      "results/LLaMA2-13B-Tiefighter.Q6_K.gguf-ms-1-ds-1-2023-10-31T17-42-32-959945\n",
      "results/tinyllama-1.1b-chat-v0.3.Q6_K.gguf-ms-1-ds-1-2023-11-01T00-46-15-309444\n",
      "results/yi-6b.Q6_K.gguf-ms-1-ds-1-2023-11-10T20-18-50-468379\n",
      "results/causallm_14b.Q5_1.gguf-ms-1-ds-1-2023-11-03T10-35-36-677324\n",
      "results/dolphin-2_2-yi-34b.Q3_K_L.gguf-ms-1-ds-1-2023-11-14T10-12-24-796197\n",
      "results/xwin-lm-13b-v0.2.Q6_K.gguf-ms-1-ds-1-2023-11-01T00-58-44-761255\n",
      "results/yi-34b.Q4_K_S.gguf-ms-1-ds-1-2023-11-05T16-42-46-725311\n",
      "results/calm2-7b-chat.Q6_K.gguf-ms-1-ds-1-2023-11-05T20-31-36-555148\n",
      "results/deepseek-coder-6.7b-instruct.Q6_K.gguf-ms-1-ds-1-2023-11-05T14-31-32-915729\n",
      "results/Nous-Capybara-7B-V1.9.f16.gguf-ms-1-ds-1-2023-11-06T16-26-44-714790\n",
      "results/dolphin-2.2.1-mistral-7b.Q6_K.gguf-ms-1-ds-1-2023-10-31T21-36-34-229872\n",
      "results/Toppy-M-7B.q6_k.gguf-ms-1-ds-1-2023-11-05T15-49-14-211762\n",
      "results/speechless-mistral-dolphin-orca-platypus-samantha-7b.Q6_K.gguf-ms-1-ds-1-2023-10-31T23-37-03-619721\n",
      "results/platypus-30b.Q4_K_S.gguf-ms-1-ds-1-2023-11-11T16-25-38-264366\n",
      "results/tulu-30b.Q4_K_S.gguf-ms-1-ds-1-2023-11-11T13-10-12-855522\n",
      "results/Mistral-11B-SynthIAirOmniMix.q6_k.gguf-ms-1-ds-1-2023-10-31T19-53-21-678521\n",
      "results/tinyllama-1.1b-intermediate-step-480k-1t.Q6_K.gguf-ms-1-ds-1-2023-11-05T14-09-43-470660\n",
      "results/mistral-7b-openorca-oasst_top1_2023-08-25-v1.Q6_K.gguf-ms-1-ds-1-2023-11-14T19-32-41-604728\n",
      "results/openchat_3.5.Q6_K.gguf-ms-1-ds-1-2023-11-03T14-15-01-435939\n",
      "results/deepseek-coder-1.3b-instruct.Q6_K.gguf-ms-1-ds-1-2023-11-05T13-48-58-083780\n",
      "results/skywork-13b-base.Q6_K.gguf-ms-1-ds-1-2023-11-01T12-44-12-348375\n",
      "results/openhermes-2.5-mistral-7b.Q6_K.gguf-ms-1-ds-1-2023-11-03T14-58-29-833108\n",
      "results/yi-34b-giftedconvo-merged.Q3_K_L.gguf-ms-1-ds-1-2023-11-11T19-14-09-175536\n",
      "results/naberius-7b.Q6_K.gguf-ms-1-ds-1-2023-11-05T15-09-20-406200\n",
      "results/Capybara-7B-V1.9-Q5_K_M.gguf-ms-1-ds-1-2023-10-31T17-02-07-527495\n",
      "results/nous-capybara-34b.Q3_K_L.gguf-ms-1-ds-1-2023-11-14T13-18-14-373932\n",
      "results/cyberagent-calm2-7b-chat-q6_K.gguf-ms-1-ds-1-2023-11-05T19-55-02-620044\n",
      "results/cat-v1.0-13b.Q6_K.gguf-ms-1-ds-1-2023-11-14T20-12-38-693446\n",
      "results/Nous-Capybara-3B-V1.9.Q6_K.gguf-ms-1-ds-1-2023-11-15T12-04-50-774951\n",
      "results/causallm_7b.Q6_K.gguf-ms-1-ds-1-2023-11-03T13-35-11-840295\n",
      "results/neural-chat-7b-v3-1_Q5_K_M.gguf-ms-1-ds-1-2023-11-15T10-20-30-567491\n",
      "results/tinyllama-1.1b-intermediate-step-715k-1.5t.q6_k.gguf-ms-1-ds-1-2023-11-05T13-58-32-642686\n",
      "results/speechless-mistral-six-in-one-7b.Q6.gguf-ms-1-ds-1-2023-11-01T12-04-56-385598\n",
      "results/mistrallite.Q6_K.gguf-ms-1-ds-1-2023-11-03T15-42-17-361187\n",
      "results/deepseek-coder-33b-instruct.Q4_K_S.gguf-ms-1-ds-1-2023-11-06T08-41-20-713926\n",
      "results/Mistral-11B-CC-Air.q6_k.gguf-ms-1-ds-1-2023-10-31T18-55-15-264992\n",
      "results/free_sydney_v2_13b.Q6_K.gguf-ms-1-ds-1-2023-10-31T22-18-04-044264\n",
      "results/nous-capybara-7b-v1.9.Q6_K.gguf-ms-1-ds-1-2023-11-06T14-31-32-460099\n",
      "results/Mistral-7B-claude-chat.q6_k.gguf-ms-1-ds-1-2023-10-31T20-55-05-148721\n",
      "results/augmental-unholy-13b.Q6_K.gguf-ms-1-ds-1-2023-11-14T21-26-01-685317\n",
      "results/yi-34b-200k-llamafied.Q3_K_L.gguf-ms-1-ds-1-2023-11-14T16-27-17-511603\n"
     ]
    },
    {
     "data": {
      "text/html": [
       "<div><style>\n",
       ".dataframe > thead > tr > th,\n",
       ".dataframe > tbody > tr > td {\n",
       "  text-align: right;\n",
       "  white-space: pre-wrap;\n",
       "}\n",
       "</style>\n",
       "<small>shape: (42, 3)</small><table border=\"1\" class=\"dataframe\"><thead><tr><th>model</th><th>normalized_score</th><th>score</th></tr><tr><td>str</td><td>f64</td><td>i64</td></tr></thead><tbody><tr><td>&quot;dolphin-2_2-yi…</td><td>0.635556</td><td>2860</td></tr><tr><td>&quot;yi-34b-giftedc…</td><td>0.618889</td><td>2785</td></tr><tr><td>&quot;yi-34b.Q4_K_S.…</td><td>0.615778</td><td>2771</td></tr><tr><td>&quot;openchat_3.5.Q…</td><td>0.615333</td><td>2769</td></tr><tr><td>&quot;nous-capybara-…</td><td>0.607333</td><td>2733</td></tr><tr><td>&quot;openhermes-2.5…</td><td>0.603111</td><td>2714</td></tr><tr><td>&quot;mistral-7b-ope…</td><td>0.602889</td><td>2713</td></tr><tr><td>&quot;yi-34b-200k-ll…</td><td>0.594667</td><td>2676</td></tr><tr><td>&quot;speechless-mis…</td><td>0.594667</td><td>2676</td></tr><tr><td>&quot;neural-chat-7b…</td><td>0.592</td><td>2664</td></tr><tr><td>&quot;dolphin-2.2.1-…</td><td>0.591556</td><td>2662</td></tr><tr><td>&quot;speechless-mis…</td><td>0.589111</td><td>2651</td></tr><tr><td>&hellip;</td><td>&hellip;</td><td>&hellip;</td></tr><tr><td>&quot;Nous-Capybara-…</td><td>0.465778</td><td>2096</td></tr><tr><td>&quot;nous-capybara-…</td><td>0.463111</td><td>2084</td></tr><tr><td>&quot;cat-v1.0-13b.Q…</td><td>0.442222</td><td>1990</td></tr><tr><td>&quot;Nous-Capybara-…</td><td>0.390667</td><td>1758</td></tr><tr><td>&quot;deepseek-coder…</td><td>0.369778</td><td>1664</td></tr><tr><td>&quot;deepseek-coder…</td><td>0.332444</td><td>1496</td></tr><tr><td>&quot;tinyllama-1.1b…</td><td>0.328667</td><td>1479</td></tr><tr><td>&quot;calm2-7b-chat.…</td><td>0.325778</td><td>1466</td></tr><tr><td>&quot;tinyllama-1.1b…</td><td>0.321111</td><td>1445</td></tr><tr><td>&quot;tinyllama-1.1b…</td><td>0.319778</td><td>1439</td></tr><tr><td>&quot;deepseek-coder…</td><td>0.207333</td><td>933</td></tr><tr><td>&quot;cyberagent-cal…</td><td>0.011111</td><td>50</td></tr></tbody></table></div>"
      ],
      "text/plain": [
       "shape: (42, 3)\n",
       "┌───────────────────────────────────┬──────────────────┬───────┐\n",
       "│ model                             ┆ normalized_score ┆ score │\n",
       "│ ---                               ┆ ---              ┆ ---   │\n",
       "│ str                               ┆ f64              ┆ i64   │\n",
       "╞═══════════════════════════════════╪══════════════════╪═══════╡\n",
       "│ dolphin-2_2-yi-34b.Q3_K_L.gguf    ┆ 0.635556         ┆ 2860  │\n",
       "│ yi-34b-giftedconvo-merged.Q3_K_L… ┆ 0.618889         ┆ 2785  │\n",
       "│ yi-34b.Q4_K_S.gguf                ┆ 0.615778         ┆ 2771  │\n",
       "│ openchat_3.5.Q6_K.gguf            ┆ 0.615333         ┆ 2769  │\n",
       "│ …                                 ┆ …                ┆ …     │\n",
       "│ tinyllama-1.1b-intermediate-step… ┆ 0.321111         ┆ 1445  │\n",
       "│ tinyllama-1.1b-intermediate-step… ┆ 0.319778         ┆ 1439  │\n",
       "│ deepseek-coder-1.3b-instruct.Q6_… ┆ 0.207333         ┆ 933   │\n",
       "│ cyberagent-calm2-7b-chat-q6_K.gg… ┆ 0.011111         ┆ 50    │\n",
       "└───────────────────────────────────┴──────────────────┴───────┘"
      ]
     },
     "execution_count": 9,
     "metadata": {},
     "output_type": "execute_result"
    }
   ],
   "source": [
    "from pathlib import Path\n",
    "import json\n",
    "from run_bench import get_datasets, calculate_category_scores\n",
    "\n",
    "results_folder = Path(\"results\")\n",
    "\n",
    "results_df = pl.DataFrame()\n",
    "results_folders = [f for f in Path(results_folder).iterdir() if not f.is_file()]\n",
    "for result_folder in results_folders:\n",
    "    print(result_folder)\n",
    "    metadata = json.load(\n",
    "        open(result_folder / \"metadata.json\", \"r\"),\n",
    "    )\n",
    "    datasets_df = pl.read_parquet(\n",
    "        result_folder / \"datasets_results.parquet\",\n",
    "    )\n",
    "    number_of_samples = metadata[\"number_of_samples\"]\n",
    "\n",
    "    datasets = get_datasets(number_of_samples, metadata[\"dataset_seed\"])\n",
    "\n",
    "    scores = {\n",
    "        r[\"dataset\"]: r[\"score\"]\n",
    "        for r in datasets_df.group_by(\"dataset\")\n",
    "        .agg(pl.sum(\"score\").alias(\"score\"))\n",
    "        .to_dicts()\n",
    "    }\n",
    "    normalized_scores = {k: v / number_of_samples for k, v in scores.items()}\n",
    "    category_scores = calculate_category_scores(datasets_df)\n",
    "    normalized_category_scores = {\n",
    "        k: v / (len([d for d in datasets if d.category == k]) * number_of_samples)\n",
    "        for k, v in category_scores.items()\n",
    "    }\n",
    "    score = sum(scores.values())\n",
    "    normalized_score = score / (len(metadata[\"datasets\"]) * number_of_samples)\n",
    "    # normalized_score = sum(normalized_category_scores.values())/len(normalized_category_scores)\n",
    "\n",
    "    result = {\n",
    "        \"model\": metadata[\"model\"],\n",
    "        \"model_seed\": metadata[\"model_seed\"],\n",
    "        \"dataset_seed\": metadata[\"dataset_seed\"],\n",
    "        \"score\": score,\n",
    "        \"normalized_score\": normalized_score,\n",
    "        \"scores\": scores,\n",
    "        \"normalized_scores\": normalized_scores,\n",
    "        \"category_scores\": category_scores,\n",
    "        \"normalized_category_scores\": normalized_category_scores,\n",
    "        \"number_of_samples\": number_of_samples,\n",
    "        \"run_folder_name\": result_folder.name,\n",
    "    }\n",
    "    results_df = pl.DataFrame([*results_df.to_dicts(), result])\n",
    "results_df.sort(\"normalized_score\").reverse().select([\"model\", \"normalized_score\", \"score\"])"
   ]
  },
  {
   "cell_type": "code",
   "execution_count": null,
   "metadata": {},
   "outputs": [],
   "source": []
  }
 ],
 "metadata": {
  "kernelspec": {
   "display_name": ".venv",
   "language": "python",
   "name": "python3"
  },
  "language_info": {
   "codemirror_mode": {
    "name": "ipython",
    "version": 3
   },
   "file_extension": ".py",
   "mimetype": "text/x-python",
   "name": "python",
   "nbconvert_exporter": "python",
   "pygments_lexer": "ipython3",
   "version": "3.10.13"
  }
 },
 "nbformat": 4,
 "nbformat_minor": 2
}
