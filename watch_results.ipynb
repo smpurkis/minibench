{
 "cells": [
  {
   "cell_type": "code",
   "execution_count": 1,
   "metadata": {},
   "outputs": [
    {
     "name": "stderr",
     "output_type": "stream",
     "text": [
      "/Users/user/demo_1/oobabooga_macos/.venv/lib/python3.10/site-packages/tqdm/auto.py:21: TqdmWarning: IProgress not found. Please update jupyter and ipywidgets. See https://ipywidgets.readthedocs.io/en/stable/user_install.html\n",
      "  from .autonotebook import tqdm as notebook_tqdm\n"
     ]
    }
   ],
   "source": [
    "from run_bench import save_overall_results, dataset_metadata\n",
    "from pathlib import Path\n",
    "import polars as pl\n",
    "import plotly.express as px\n",
    "import plotly.graph_objects as go\n",
    "import dash"
   ]
  },
  {
   "cell_type": "code",
   "execution_count": 2,
   "metadata": {},
   "outputs": [
    {
     "name": "stderr",
     "output_type": "stream",
     "text": [
      "100%|██████████| 9/9 [00:00<00:00, 34600.12it/s]\n"
     ]
    },
    {
     "name": "stdout",
     "output_type": "stream",
     "text": [
      "Loading datasets with seed: 1\n",
      "0.013548612594604492\n"
     ]
    },
    {
     "name": "stderr",
     "output_type": "stream",
     "text": [
      "100%|██████████| 9/9 [00:00<00:00, 101203.05it/s]\n"
     ]
    },
    {
     "name": "stdout",
     "output_type": "stream",
     "text": [
      "Loading datasets with seed: 1\n",
      "0.009061813354492188\n"
     ]
    },
    {
     "name": "stderr",
     "output_type": "stream",
     "text": [
      "100%|██████████| 9/9 [00:00<00:00, 95808.97it/s]\n"
     ]
    },
    {
     "name": "stdout",
     "output_type": "stream",
     "text": [
      "Loading datasets with seed: 1\n",
      "0.01014089584350586\n"
     ]
    },
    {
     "name": "stderr",
     "output_type": "stream",
     "text": [
      "100%|██████████| 9/9 [00:00<00:00, 100129.27it/s]\n"
     ]
    },
    {
     "name": "stdout",
     "output_type": "stream",
     "text": [
      "Loading datasets with seed: 1\n",
      "0.010495901107788086\n"
     ]
    },
    {
     "name": "stderr",
     "output_type": "stream",
     "text": [
      "100%|██████████| 9/9 [00:00<00:00, 96544.08it/s]\n"
     ]
    },
    {
     "name": "stdout",
     "output_type": "stream",
     "text": [
      "Loading datasets with seed: 1\n",
      "0.0146942138671875\n"
     ]
    },
    {
     "name": "stderr",
     "output_type": "stream",
     "text": [
      "100%|██████████| 9/9 [00:00<00:00, 121770.12it/s]\n"
     ]
    },
    {
     "name": "stdout",
     "output_type": "stream",
     "text": [
      "Loading datasets with seed: 1\n",
      "0.008318901062011719\n"
     ]
    },
    {
     "name": "stderr",
     "output_type": "stream",
     "text": [
      "100%|██████████| 9/9 [00:00<00:00, 114390.11it/s]\n"
     ]
    },
    {
     "name": "stdout",
     "output_type": "stream",
     "text": [
      "Loading datasets with seed: 1\n",
      "0.008527755737304688\n"
     ]
    },
    {
     "name": "stderr",
     "output_type": "stream",
     "text": [
      "100%|██████████| 9/9 [00:00<00:00, 112682.79it/s]\n"
     ]
    },
    {
     "name": "stdout",
     "output_type": "stream",
     "text": [
      "Loading datasets with seed: 1\n",
      "0.008357048034667969\n"
     ]
    },
    {
     "name": "stderr",
     "output_type": "stream",
     "text": [
      "100%|██████████| 9/9 [00:00<00:00, 123361.88it/s]\n"
     ]
    },
    {
     "name": "stdout",
     "output_type": "stream",
     "text": [
      "Loading datasets with seed: 1\n",
      "0.008136987686157227\n"
     ]
    },
    {
     "name": "stderr",
     "output_type": "stream",
     "text": [
      "100%|██████████| 9/9 [00:00<00:00, 105738.76it/s]\n"
     ]
    },
    {
     "name": "stdout",
     "output_type": "stream",
     "text": [
      "Loading datasets with seed: 1\n",
      "0.00812220573425293\n"
     ]
    },
    {
     "name": "stderr",
     "output_type": "stream",
     "text": [
      "100%|██████████| 9/9 [00:00<00:00, 109734.70it/s]\n"
     ]
    },
    {
     "name": "stdout",
     "output_type": "stream",
     "text": [
      "Loading datasets with seed: 1\n",
      "0.007686138153076172\n"
     ]
    },
    {
     "name": "stderr",
     "output_type": "stream",
     "text": [
      "100%|██████████| 9/9 [00:00<00:00, 98818.68it/s]\n"
     ]
    },
    {
     "name": "stdout",
     "output_type": "stream",
     "text": [
      "Loading datasets with seed: 1\n",
      "0.008679866790771484\n"
     ]
    },
    {
     "name": "stderr",
     "output_type": "stream",
     "text": [
      "100%|██████████| 9/9 [00:00<00:00, 105738.76it/s]\n"
     ]
    },
    {
     "name": "stdout",
     "output_type": "stream",
     "text": [
      "Loading datasets with seed: 1\n",
      "0.009205818176269531\n"
     ]
    },
    {
     "name": "stderr",
     "output_type": "stream",
     "text": [
      "100%|██████████| 9/9 [00:00<00:00, 124995.81it/s]\n"
     ]
    },
    {
     "name": "stdout",
     "output_type": "stream",
     "text": [
      "Loading datasets with seed: 1\n",
      "0.008016824722290039\n"
     ]
    },
    {
     "name": "stderr",
     "output_type": "stream",
     "text": [
      "100%|██████████| 9/9 [00:00<00:00, 107240.73it/s]\n"
     ]
    },
    {
     "name": "stdout",
     "output_type": "stream",
     "text": [
      "Loading datasets with seed: 1\n",
      "0.011076211929321289\n"
     ]
    },
    {
     "name": "stderr",
     "output_type": "stream",
     "text": [
      "100%|██████████| 9/9 [00:00<00:00, 96791.63it/s]\n"
     ]
    },
    {
     "name": "stdout",
     "output_type": "stream",
     "text": [
      "Loading datasets with seed: 1\n",
      "0.011234045028686523\n"
     ]
    },
    {
     "name": "stderr",
     "output_type": "stream",
     "text": [
      "100%|██████████| 9/9 [00:00<00:00, 108162.57it/s]\n"
     ]
    },
    {
     "name": "stdout",
     "output_type": "stream",
     "text": [
      "Loading datasets with seed: 1\n",
      "0.008485794067382812\n"
     ]
    },
    {
     "data": {
      "application/vnd.plotly.v1+json": {
       "config": {
        "plotlyServerURL": "https://plot.ly"
       },
       "data": [
        {
         "name": "tinyllama-1.1b-intermediate-step-480k-1t.Q6_K.gguf",
         "r": [
          0.21,
          0.255,
          0.22,
          0.305,
          0.69,
          0.21
         ],
         "theta": [
          "Comprehension",
          "Knowledge",
          "Math",
          "Reasoning",
          "Safety",
          "Comprehension"
         ],
         "type": "scatterpolar"
        },
        {
         "name": "random",
         "r": [
          0.25,
          0.24984394506866417,
          0.2004008016032064,
          0.3333333333333333,
          0.19880715705765406,
          0.25
         ],
         "theta": [
          "Comprehension",
          "Knowledge",
          "Math",
          "Reasoning",
          "Safety",
          "Comprehension"
         ],
         "type": "scatterpolar"
        },
        {
         "name": "tinyllama-1.1b-chat-v0.3.Q6_K.gguf",
         "r": [
          0.255,
          0.2575,
          0.155,
          0.33125,
          0.715,
          0.255
         ],
         "theta": [
          "Comprehension",
          "Knowledge",
          "Math",
          "Reasoning",
          "Safety",
          "Comprehension"
         ],
         "type": "scatterpolar"
        },
        {
         "name": "xwin-lm-7b-v0.1.Q6_K.gguf",
         "r": [
          0.565,
          0.4725,
          0.205,
          0.41125,
          0.285,
          0.565
         ],
         "theta": [
          "Comprehension",
          "Knowledge",
          "Math",
          "Reasoning",
          "Safety",
          "Comprehension"
         ],
         "type": "scatterpolar"
        },
        {
         "name": "samantha-mistral-instruct-7b.Q6_K.gguf",
         "r": [
          0.57,
          0.5775,
          0.17,
          0.4525,
          0.485,
          0.57
         ],
         "theta": [
          "Comprehension",
          "Knowledge",
          "Math",
          "Reasoning",
          "Safety",
          "Comprehension"
         ],
         "type": "scatterpolar"
        },
        {
         "name": "llama-2-7b-chat.Q6_K.gguf",
         "r": [
          0.625,
          0.455,
          0.2,
          0.4125,
          0.21,
          0.625
         ],
         "theta": [
          "Comprehension",
          "Knowledge",
          "Math",
          "Reasoning",
          "Safety",
          "Comprehension"
         ],
         "type": "scatterpolar"
        },
        {
         "name": "llama-2-13b-chat.Q6_K.gguf",
         "r": [
          0.645,
          0.545,
          0.2,
          0.4575,
          0.245,
          0.645
         ],
         "theta": [
          "Comprehension",
          "Knowledge",
          "Math",
          "Reasoning",
          "Safety",
          "Comprehension"
         ],
         "type": "scatterpolar"
        },
        {
         "name": "mistral-7b-instruct-v0.1.Q6_K.gguf",
         "r": [
          0.66,
          0.5875,
          0.195,
          0.455,
          0.54,
          0.66
         ],
         "theta": [
          "Comprehension",
          "Knowledge",
          "Math",
          "Reasoning",
          "Safety",
          "Comprehension"
         ],
         "type": "scatterpolar"
        },
        {
         "name": "zephyr-7b-alpha.Q6_K.gguf",
         "r": [
          0.675,
          0.67,
          0.23,
          0.505,
          0.47,
          0.675
         ],
         "theta": [
          "Comprehension",
          "Knowledge",
          "Math",
          "Reasoning",
          "Safety",
          "Comprehension"
         ],
         "type": "scatterpolar"
        },
        {
         "name": "mistral-7b-v0.1.Q6_K.gguf",
         "r": [
          0.685,
          0.61,
          0.225,
          0.44,
          0.48,
          0.685
         ],
         "theta": [
          "Comprehension",
          "Knowledge",
          "Math",
          "Reasoning",
          "Safety",
          "Comprehension"
         ],
         "type": "scatterpolar"
        },
        {
         "name": "athena-v4.Q6_K.gguf",
         "r": [
          0.685,
          0.62,
          0.285,
          0.52625,
          0.475,
          0.685
         ],
         "theta": [
          "Comprehension",
          "Knowledge",
          "Math",
          "Reasoning",
          "Safety",
          "Comprehension"
         ],
         "type": "scatterpolar"
        },
        {
         "name": "xwin-lm-13b-v0.1.Q6_K.gguf",
         "r": [
          0.69,
          0.5675,
          0.24,
          0.50125,
          0.32,
          0.69
         ],
         "theta": [
          "Comprehension",
          "Knowledge",
          "Math",
          "Reasoning",
          "Safety",
          "Comprehension"
         ],
         "type": "scatterpolar"
        },
        {
         "name": "Mistral-11B-CC-Air.q6_k.gguf",
         "r": [
          0.705,
          0.6575,
          0.215,
          0.5175,
          0.505,
          0.705
         ],
         "theta": [
          "Comprehension",
          "Knowledge",
          "Math",
          "Reasoning",
          "Safety",
          "Comprehension"
         ],
         "type": "scatterpolar"
        },
        {
         "name": "Emerhyst-20B.q6_k.gguf",
         "r": [
          0.725,
          0.5975,
          0.25,
          0.495,
          0.48,
          0.725
         ],
         "theta": [
          "Comprehension",
          "Knowledge",
          "Math",
          "Reasoning",
          "Safety",
          "Comprehension"
         ],
         "type": "scatterpolar"
        },
        {
         "name": "dolphin-2.0-mistral-7b.Q6_K.gguf",
         "r": [
          0.74,
          0.665,
          0.19,
          0.5725,
          0.515,
          0.74
         ],
         "theta": [
          "Comprehension",
          "Knowledge",
          "Math",
          "Reasoning",
          "Safety",
          "Comprehension"
         ],
         "type": "scatterpolar"
        },
        {
         "name": "mythical-destroyer-v2-l2-13b.Q6_K.gguf",
         "r": [
          0.76,
          0.6425,
          0.245,
          0.56,
          0.445,
          0.76
         ],
         "theta": [
          "Comprehension",
          "Knowledge",
          "Math",
          "Reasoning",
          "Safety",
          "Comprehension"
         ],
         "type": "scatterpolar"
        },
        {
         "name": "speechless-llama2-hermes-orca-platypus-wizardlm-13b.Q6_K.gguf",
         "r": [
          0.775,
          0.6675,
          0.255,
          0.5475,
          0.47,
          0.775
         ],
         "theta": [
          "Comprehension",
          "Knowledge",
          "Math",
          "Reasoning",
          "Safety",
          "Comprehension"
         ],
         "type": "scatterpolar"
        },
        {
         "name": "superplatty-30b.Q2_K.gguf",
         "r": [
          0.85,
          0.6475,
          0.25,
          0.515,
          0.55,
          0.85
         ],
         "theta": [
          "Comprehension",
          "Knowledge",
          "Math",
          "Reasoning",
          "Safety",
          "Comprehension"
         ],
         "type": "scatterpolar"
        }
       ],
       "layout": {
        "height": 800,
        "legend": {
         "font": {
          "size": 8
         },
         "x": 0,
         "y": 1.5
        },
        "margin": {
         "b": 50,
         "l": 50,
         "r": 50,
         "t": 50
        },
        "paper_bgcolor": "white",
        "plot_bgcolor": "white",
        "polar": {
         "angularaxis": {
          "color": "black",
          "linewidth": 2,
          "showline": true,
          "showticklabels": true,
          "tickangle": 0
         },
         "radialaxis": {
          "color": "black",
          "gridcolor": "black",
          "gridwidth": 1,
          "linewidth": 2,
          "range": [
           0,
           1.1
          ],
          "showline": true,
          "visible": true
         }
        },
        "showlegend": true,
        "template": {
         "data": {
          "bar": [
           {
            "error_x": {
             "color": "#2a3f5f"
            },
            "error_y": {
             "color": "#2a3f5f"
            },
            "marker": {
             "line": {
              "color": "#E5ECF6",
              "width": 0.5
             },
             "pattern": {
              "fillmode": "overlay",
              "size": 10,
              "solidity": 0.2
             }
            },
            "type": "bar"
           }
          ],
          "barpolar": [
           {
            "marker": {
             "line": {
              "color": "#E5ECF6",
              "width": 0.5
             },
             "pattern": {
              "fillmode": "overlay",
              "size": 10,
              "solidity": 0.2
             }
            },
            "type": "barpolar"
           }
          ],
          "carpet": [
           {
            "aaxis": {
             "endlinecolor": "#2a3f5f",
             "gridcolor": "white",
             "linecolor": "white",
             "minorgridcolor": "white",
             "startlinecolor": "#2a3f5f"
            },
            "baxis": {
             "endlinecolor": "#2a3f5f",
             "gridcolor": "white",
             "linecolor": "white",
             "minorgridcolor": "white",
             "startlinecolor": "#2a3f5f"
            },
            "type": "carpet"
           }
          ],
          "choropleth": [
           {
            "colorbar": {
             "outlinewidth": 0,
             "ticks": ""
            },
            "type": "choropleth"
           }
          ],
          "contour": [
           {
            "colorbar": {
             "outlinewidth": 0,
             "ticks": ""
            },
            "colorscale": [
             [
              0,
              "#0d0887"
             ],
             [
              0.1111111111111111,
              "#46039f"
             ],
             [
              0.2222222222222222,
              "#7201a8"
             ],
             [
              0.3333333333333333,
              "#9c179e"
             ],
             [
              0.4444444444444444,
              "#bd3786"
             ],
             [
              0.5555555555555556,
              "#d8576b"
             ],
             [
              0.6666666666666666,
              "#ed7953"
             ],
             [
              0.7777777777777778,
              "#fb9f3a"
             ],
             [
              0.8888888888888888,
              "#fdca26"
             ],
             [
              1,
              "#f0f921"
             ]
            ],
            "type": "contour"
           }
          ],
          "contourcarpet": [
           {
            "colorbar": {
             "outlinewidth": 0,
             "ticks": ""
            },
            "type": "contourcarpet"
           }
          ],
          "heatmap": [
           {
            "colorbar": {
             "outlinewidth": 0,
             "ticks": ""
            },
            "colorscale": [
             [
              0,
              "#0d0887"
             ],
             [
              0.1111111111111111,
              "#46039f"
             ],
             [
              0.2222222222222222,
              "#7201a8"
             ],
             [
              0.3333333333333333,
              "#9c179e"
             ],
             [
              0.4444444444444444,
              "#bd3786"
             ],
             [
              0.5555555555555556,
              "#d8576b"
             ],
             [
              0.6666666666666666,
              "#ed7953"
             ],
             [
              0.7777777777777778,
              "#fb9f3a"
             ],
             [
              0.8888888888888888,
              "#fdca26"
             ],
             [
              1,
              "#f0f921"
             ]
            ],
            "type": "heatmap"
           }
          ],
          "heatmapgl": [
           {
            "colorbar": {
             "outlinewidth": 0,
             "ticks": ""
            },
            "colorscale": [
             [
              0,
              "#0d0887"
             ],
             [
              0.1111111111111111,
              "#46039f"
             ],
             [
              0.2222222222222222,
              "#7201a8"
             ],
             [
              0.3333333333333333,
              "#9c179e"
             ],
             [
              0.4444444444444444,
              "#bd3786"
             ],
             [
              0.5555555555555556,
              "#d8576b"
             ],
             [
              0.6666666666666666,
              "#ed7953"
             ],
             [
              0.7777777777777778,
              "#fb9f3a"
             ],
             [
              0.8888888888888888,
              "#fdca26"
             ],
             [
              1,
              "#f0f921"
             ]
            ],
            "type": "heatmapgl"
           }
          ],
          "histogram": [
           {
            "marker": {
             "pattern": {
              "fillmode": "overlay",
              "size": 10,
              "solidity": 0.2
             }
            },
            "type": "histogram"
           }
          ],
          "histogram2d": [
           {
            "colorbar": {
             "outlinewidth": 0,
             "ticks": ""
            },
            "colorscale": [
             [
              0,
              "#0d0887"
             ],
             [
              0.1111111111111111,
              "#46039f"
             ],
             [
              0.2222222222222222,
              "#7201a8"
             ],
             [
              0.3333333333333333,
              "#9c179e"
             ],
             [
              0.4444444444444444,
              "#bd3786"
             ],
             [
              0.5555555555555556,
              "#d8576b"
             ],
             [
              0.6666666666666666,
              "#ed7953"
             ],
             [
              0.7777777777777778,
              "#fb9f3a"
             ],
             [
              0.8888888888888888,
              "#fdca26"
             ],
             [
              1,
              "#f0f921"
             ]
            ],
            "type": "histogram2d"
           }
          ],
          "histogram2dcontour": [
           {
            "colorbar": {
             "outlinewidth": 0,
             "ticks": ""
            },
            "colorscale": [
             [
              0,
              "#0d0887"
             ],
             [
              0.1111111111111111,
              "#46039f"
             ],
             [
              0.2222222222222222,
              "#7201a8"
             ],
             [
              0.3333333333333333,
              "#9c179e"
             ],
             [
              0.4444444444444444,
              "#bd3786"
             ],
             [
              0.5555555555555556,
              "#d8576b"
             ],
             [
              0.6666666666666666,
              "#ed7953"
             ],
             [
              0.7777777777777778,
              "#fb9f3a"
             ],
             [
              0.8888888888888888,
              "#fdca26"
             ],
             [
              1,
              "#f0f921"
             ]
            ],
            "type": "histogram2dcontour"
           }
          ],
          "mesh3d": [
           {
            "colorbar": {
             "outlinewidth": 0,
             "ticks": ""
            },
            "type": "mesh3d"
           }
          ],
          "parcoords": [
           {
            "line": {
             "colorbar": {
              "outlinewidth": 0,
              "ticks": ""
             }
            },
            "type": "parcoords"
           }
          ],
          "pie": [
           {
            "automargin": true,
            "type": "pie"
           }
          ],
          "scatter": [
           {
            "fillpattern": {
             "fillmode": "overlay",
             "size": 10,
             "solidity": 0.2
            },
            "type": "scatter"
           }
          ],
          "scatter3d": [
           {
            "line": {
             "colorbar": {
              "outlinewidth": 0,
              "ticks": ""
             }
            },
            "marker": {
             "colorbar": {
              "outlinewidth": 0,
              "ticks": ""
             }
            },
            "type": "scatter3d"
           }
          ],
          "scattercarpet": [
           {
            "marker": {
             "colorbar": {
              "outlinewidth": 0,
              "ticks": ""
             }
            },
            "type": "scattercarpet"
           }
          ],
          "scattergeo": [
           {
            "marker": {
             "colorbar": {
              "outlinewidth": 0,
              "ticks": ""
             }
            },
            "type": "scattergeo"
           }
          ],
          "scattergl": [
           {
            "marker": {
             "colorbar": {
              "outlinewidth": 0,
              "ticks": ""
             }
            },
            "type": "scattergl"
           }
          ],
          "scattermapbox": [
           {
            "marker": {
             "colorbar": {
              "outlinewidth": 0,
              "ticks": ""
             }
            },
            "type": "scattermapbox"
           }
          ],
          "scatterpolar": [
           {
            "marker": {
             "colorbar": {
              "outlinewidth": 0,
              "ticks": ""
             }
            },
            "type": "scatterpolar"
           }
          ],
          "scatterpolargl": [
           {
            "marker": {
             "colorbar": {
              "outlinewidth": 0,
              "ticks": ""
             }
            },
            "type": "scatterpolargl"
           }
          ],
          "scatterternary": [
           {
            "marker": {
             "colorbar": {
              "outlinewidth": 0,
              "ticks": ""
             }
            },
            "type": "scatterternary"
           }
          ],
          "surface": [
           {
            "colorbar": {
             "outlinewidth": 0,
             "ticks": ""
            },
            "colorscale": [
             [
              0,
              "#0d0887"
             ],
             [
              0.1111111111111111,
              "#46039f"
             ],
             [
              0.2222222222222222,
              "#7201a8"
             ],
             [
              0.3333333333333333,
              "#9c179e"
             ],
             [
              0.4444444444444444,
              "#bd3786"
             ],
             [
              0.5555555555555556,
              "#d8576b"
             ],
             [
              0.6666666666666666,
              "#ed7953"
             ],
             [
              0.7777777777777778,
              "#fb9f3a"
             ],
             [
              0.8888888888888888,
              "#fdca26"
             ],
             [
              1,
              "#f0f921"
             ]
            ],
            "type": "surface"
           }
          ],
          "table": [
           {
            "cells": {
             "fill": {
              "color": "#EBF0F8"
             },
             "line": {
              "color": "white"
             }
            },
            "header": {
             "fill": {
              "color": "#C8D4E3"
             },
             "line": {
              "color": "white"
             }
            },
            "type": "table"
           }
          ]
         },
         "layout": {
          "annotationdefaults": {
           "arrowcolor": "#2a3f5f",
           "arrowhead": 0,
           "arrowwidth": 1
          },
          "autotypenumbers": "strict",
          "coloraxis": {
           "colorbar": {
            "outlinewidth": 0,
            "ticks": ""
           }
          },
          "colorscale": {
           "diverging": [
            [
             0,
             "#8e0152"
            ],
            [
             0.1,
             "#c51b7d"
            ],
            [
             0.2,
             "#de77ae"
            ],
            [
             0.3,
             "#f1b6da"
            ],
            [
             0.4,
             "#fde0ef"
            ],
            [
             0.5,
             "#f7f7f7"
            ],
            [
             0.6,
             "#e6f5d0"
            ],
            [
             0.7,
             "#b8e186"
            ],
            [
             0.8,
             "#7fbc41"
            ],
            [
             0.9,
             "#4d9221"
            ],
            [
             1,
             "#276419"
            ]
           ],
           "sequential": [
            [
             0,
             "#0d0887"
            ],
            [
             0.1111111111111111,
             "#46039f"
            ],
            [
             0.2222222222222222,
             "#7201a8"
            ],
            [
             0.3333333333333333,
             "#9c179e"
            ],
            [
             0.4444444444444444,
             "#bd3786"
            ],
            [
             0.5555555555555556,
             "#d8576b"
            ],
            [
             0.6666666666666666,
             "#ed7953"
            ],
            [
             0.7777777777777778,
             "#fb9f3a"
            ],
            [
             0.8888888888888888,
             "#fdca26"
            ],
            [
             1,
             "#f0f921"
            ]
           ],
           "sequentialminus": [
            [
             0,
             "#0d0887"
            ],
            [
             0.1111111111111111,
             "#46039f"
            ],
            [
             0.2222222222222222,
             "#7201a8"
            ],
            [
             0.3333333333333333,
             "#9c179e"
            ],
            [
             0.4444444444444444,
             "#bd3786"
            ],
            [
             0.5555555555555556,
             "#d8576b"
            ],
            [
             0.6666666666666666,
             "#ed7953"
            ],
            [
             0.7777777777777778,
             "#fb9f3a"
            ],
            [
             0.8888888888888888,
             "#fdca26"
            ],
            [
             1,
             "#f0f921"
            ]
           ]
          },
          "colorway": [
           "#636efa",
           "#EF553B",
           "#00cc96",
           "#ab63fa",
           "#FFA15A",
           "#19d3f3",
           "#FF6692",
           "#B6E880",
           "#FF97FF",
           "#FECB52"
          ],
          "font": {
           "color": "#2a3f5f"
          },
          "geo": {
           "bgcolor": "white",
           "lakecolor": "white",
           "landcolor": "#E5ECF6",
           "showlakes": true,
           "showland": true,
           "subunitcolor": "white"
          },
          "hoverlabel": {
           "align": "left"
          },
          "hovermode": "closest",
          "mapbox": {
           "style": "light"
          },
          "paper_bgcolor": "white",
          "plot_bgcolor": "#E5ECF6",
          "polar": {
           "angularaxis": {
            "gridcolor": "white",
            "linecolor": "white",
            "ticks": ""
           },
           "bgcolor": "#E5ECF6",
           "radialaxis": {
            "gridcolor": "white",
            "linecolor": "white",
            "ticks": ""
           }
          },
          "scene": {
           "xaxis": {
            "backgroundcolor": "#E5ECF6",
            "gridcolor": "white",
            "gridwidth": 2,
            "linecolor": "white",
            "showbackground": true,
            "ticks": "",
            "zerolinecolor": "white"
           },
           "yaxis": {
            "backgroundcolor": "#E5ECF6",
            "gridcolor": "white",
            "gridwidth": 2,
            "linecolor": "white",
            "showbackground": true,
            "ticks": "",
            "zerolinecolor": "white"
           },
           "zaxis": {
            "backgroundcolor": "#E5ECF6",
            "gridcolor": "white",
            "gridwidth": 2,
            "linecolor": "white",
            "showbackground": true,
            "ticks": "",
            "zerolinecolor": "white"
           }
          },
          "shapedefaults": {
           "line": {
            "color": "#2a3f5f"
           }
          },
          "ternary": {
           "aaxis": {
            "gridcolor": "white",
            "linecolor": "white",
            "ticks": ""
           },
           "baxis": {
            "gridcolor": "white",
            "linecolor": "white",
            "ticks": ""
           },
           "bgcolor": "#E5ECF6",
           "caxis": {
            "gridcolor": "white",
            "linecolor": "white",
            "ticks": ""
           }
          },
          "title": {
           "x": 0.05
          },
          "xaxis": {
           "automargin": true,
           "gridcolor": "white",
           "linecolor": "white",
           "ticks": "",
           "title": {
            "standoff": 15
           },
           "zerolinecolor": "white",
           "zerolinewidth": 2
          },
          "yaxis": {
           "automargin": true,
           "gridcolor": "white",
           "linecolor": "white",
           "ticks": "",
           "title": {
            "standoff": 15
           },
           "zerolinecolor": "white",
           "zerolinewidth": 2
          }
         }
        },
        "width": 800
       }
      }
     },
     "metadata": {},
     "output_type": "display_data"
    }
   ],
   "source": [
    "fig = save_overall_results(results_folder=Path(\"results\"), method=\"plotly\")\n",
    "fig"
   ]
  },
  {
   "cell_type": "code",
   "execution_count": 3,
   "metadata": {},
   "outputs": [
    {
     "name": "stdout",
     "output_type": "stream",
     "text": [
      "shape: (17, 3)\n",
      "┌───────────────────────────────────────────┬──────────────────┬───────┐\n",
      "│ model                                     ┆ normalized_score ┆ score │\n",
      "│ ---                                       ┆ ---              ┆ ---   │\n",
      "│ str                                       ┆ f64              ┆ i64   │\n",
      "╞═══════════════════════════════════════════╪══════════════════╪═══════╡\n",
      "│ dolphin-2.0-mistral-7b.Q6_K.gguf          ┆ 0.562778         ┆ 1013  │\n",
      "│ speechless-llama2-hermes-orca-platypus-w… ┆ 0.558333         ┆ 1005  │\n",
      "│ superplatty-30b.Q2_K.gguf                 ┆ 0.556111         ┆ 1001  │\n",
      "│ mythical-destroyer-v2-l2-13b.Q6_K.gguf    ┆ 0.552778         ┆ 995   │\n",
      "│ Mistral-11B-CC-Air.q6_k.gguf              ┆ 0.534444         ┆ 962   │\n",
      "│ athena-v4.Q6_K.gguf                       ┆ 0.532222         ┆ 958   │\n",
      "│ zephyr-7b-alpha.Q6_K.gguf                 ┆ 0.526111         ┆ 947   │\n",
      "│ Emerhyst-20B.q6_k.gguf                    ┆ 0.514444         ┆ 926   │\n",
      "│ xwin-lm-13b-v0.1.Q6_K.gguf                ┆ 0.487778         ┆ 878   │\n",
      "│ mistral-7b-instruct-v0.1.Q6_K.gguf        ┆ 0.487778         ┆ 878   │\n",
      "│ mistral-7b-v0.1.Q6_K.gguf                 ┆ 0.485556         ┆ 874   │\n",
      "│ samantha-mistral-instruct-7b.Q6_K.gguf    ┆ 0.465556         ┆ 838   │\n",
      "│ llama-2-13b-chat.Q6_K.gguf                ┆ 0.445556         ┆ 802   │\n",
      "│ xwin-lm-7b-v0.1.Q6_K.gguf                 ┆ 0.405            ┆ 729   │\n",
      "│ llama-2-7b-chat.Q6_K.gguf                 ┆ 0.399444         ┆ 719   │\n",
      "│ tinyllama-1.1b-chat-v0.3.Q6_K.gguf        ┆ 0.329444         ┆ 593   │\n",
      "│ tinyllama-1.1b-intermediate-step-480k-1t… ┆ 0.316667         ┆ 570   │\n",
      "└───────────────────────────────────────────┴──────────────────┴───────┘\n"
     ]
    }
   ],
   "source": [
    "results_df = pl.read_parquet(Path(\"results/results.parquet\"))\n",
    "# sort by score\n",
    "results_df = results_df.sort(\"score\").reverse()\n",
    "# extract score and model columns\n",
    "# max model col width\n",
    "with pl.Config(fmt_str_lengths=40, tbl_rows=1000):\n",
    "    print(results_df.select([\"model\", \"normalized_score\", \"score\"]))"
   ]
  },
  {
   "cell_type": "code",
   "execution_count": 4,
   "metadata": {},
   "outputs": [
    {
     "data": {
      "text/html": [
       "<div><style>\n",
       ".dataframe > thead > tr > th,\n",
       ".dataframe > tbody > tr > td {\n",
       "  text-align: right;\n",
       "  white-space: pre-wrap;\n",
       "}\n",
       "</style>\n",
       "<small>shape: (17, 7)</small><table border=\"1\" class=\"dataframe\"><thead><tr><th>model</th><th>normalized_score</th><th>Comprehension/Reading Comprehension</th><th>Knowledge/Multi-subject Test</th><th>Math/Mathmatical Reasoning</th><th>Reasoning/Commonsense Reasoning</th><th>Safety/Truthfulness</th></tr><tr><td>str</td><td>f64</td><td>f64</td><td>f64</td><td>f64</td><td>f64</td><td>f64</td></tr></thead><tbody><tr><td>&quot;dolphin-2.0-mi…</td><td>0.562778</td><td>0.74</td><td>0.665</td><td>0.19</td><td>0.5725</td><td>0.515</td></tr><tr><td>&quot;speechless-lla…</td><td>0.558333</td><td>0.775</td><td>0.6675</td><td>0.255</td><td>0.5475</td><td>0.47</td></tr><tr><td>&quot;superplatty-30…</td><td>0.556111</td><td>0.85</td><td>0.6475</td><td>0.25</td><td>0.515</td><td>0.55</td></tr><tr><td>&quot;mythical-destr…</td><td>0.552778</td><td>0.76</td><td>0.6425</td><td>0.245</td><td>0.56</td><td>0.445</td></tr><tr><td>&quot;Mistral-11B-CC…</td><td>0.534444</td><td>0.705</td><td>0.6575</td><td>0.215</td><td>0.5175</td><td>0.505</td></tr><tr><td>&quot;athena-v4.Q6_K…</td><td>0.532222</td><td>0.685</td><td>0.62</td><td>0.285</td><td>0.52625</td><td>0.475</td></tr><tr><td>&quot;zephyr-7b-alph…</td><td>0.526111</td><td>0.675</td><td>0.67</td><td>0.23</td><td>0.505</td><td>0.47</td></tr><tr><td>&quot;Emerhyst-20B.q…</td><td>0.514444</td><td>0.725</td><td>0.5975</td><td>0.25</td><td>0.495</td><td>0.48</td></tr><tr><td>&quot;xwin-lm-13b-v0…</td><td>0.487778</td><td>0.69</td><td>0.5675</td><td>0.24</td><td>0.50125</td><td>0.32</td></tr><tr><td>&quot;mistral-7b-ins…</td><td>0.487778</td><td>0.66</td><td>0.5875</td><td>0.195</td><td>0.455</td><td>0.54</td></tr><tr><td>&quot;mistral-7b-v0.…</td><td>0.485556</td><td>0.685</td><td>0.61</td><td>0.225</td><td>0.44</td><td>0.48</td></tr><tr><td>&quot;samantha-mistr…</td><td>0.465556</td><td>0.57</td><td>0.5775</td><td>0.17</td><td>0.4525</td><td>0.485</td></tr><tr><td>&quot;llama-2-13b-ch…</td><td>0.445556</td><td>0.645</td><td>0.545</td><td>0.2</td><td>0.4575</td><td>0.245</td></tr><tr><td>&quot;xwin-lm-7b-v0.…</td><td>0.405</td><td>0.565</td><td>0.4725</td><td>0.205</td><td>0.41125</td><td>0.285</td></tr><tr><td>&quot;llama-2-7b-cha…</td><td>0.399444</td><td>0.625</td><td>0.455</td><td>0.2</td><td>0.4125</td><td>0.21</td></tr><tr><td>&quot;tinyllama-1.1b…</td><td>0.329444</td><td>0.255</td><td>0.2575</td><td>0.155</td><td>0.33125</td><td>0.715</td></tr><tr><td>&quot;tinyllama-1.1b…</td><td>0.316667</td><td>0.21</td><td>0.255</td><td>0.22</td><td>0.305</td><td>0.69</td></tr></tbody></table></div>"
      ],
      "text/plain": [
       "shape: (17, 7)\n",
       "┌──────────────┬─────────────┬─────────────┬─────────────┬─────────────┬─────────────┬─────────────┐\n",
       "│ model        ┆ normalized_ ┆ Comprehensi ┆ Knowledge/M ┆ Math/Mathma ┆ Reasoning/C ┆ Safety/Trut │\n",
       "│ ---          ┆ score       ┆ on/Reading  ┆ ulti-subjec ┆ tical       ┆ ommonsense  ┆ hfulness    │\n",
       "│ str          ┆ ---         ┆ Comprehens… ┆ t Test      ┆ Reasoning   ┆ Reasoning   ┆ ---         │\n",
       "│              ┆ f64         ┆ ---         ┆ ---         ┆ ---         ┆ ---         ┆ f64         │\n",
       "│              ┆             ┆ f64         ┆ f64         ┆ f64         ┆ f64         ┆             │\n",
       "╞══════════════╪═════════════╪═════════════╪═════════════╪═════════════╪═════════════╪═════════════╡\n",
       "│ dolphin-2.0- ┆ 0.562778    ┆ 0.74        ┆ 0.665       ┆ 0.19        ┆ 0.5725      ┆ 0.515       │\n",
       "│ mistral-7b.Q ┆             ┆             ┆             ┆             ┆             ┆             │\n",
       "│ 6_K.gguf     ┆             ┆             ┆             ┆             ┆             ┆             │\n",
       "│ speechless-l ┆ 0.558333    ┆ 0.775       ┆ 0.6675      ┆ 0.255       ┆ 0.5475      ┆ 0.47        │\n",
       "│ lama2-hermes ┆             ┆             ┆             ┆             ┆             ┆             │\n",
       "│ -orca-pl…    ┆             ┆             ┆             ┆             ┆             ┆             │\n",
       "│ superplatty- ┆ 0.556111    ┆ 0.85        ┆ 0.6475      ┆ 0.25        ┆ 0.515       ┆ 0.55        │\n",
       "│ 30b.Q2_K.ggu ┆             ┆             ┆             ┆             ┆             ┆             │\n",
       "│ f            ┆             ┆             ┆             ┆             ┆             ┆             │\n",
       "│ mythical-des ┆ 0.552778    ┆ 0.76        ┆ 0.6425      ┆ 0.245       ┆ 0.56        ┆ 0.445       │\n",
       "│ troyer-v2-l2 ┆             ┆             ┆             ┆             ┆             ┆             │\n",
       "│ -13b.Q6_…    ┆             ┆             ┆             ┆             ┆             ┆             │\n",
       "│ …            ┆ …           ┆ …           ┆ …           ┆ …           ┆ …           ┆ …           │\n",
       "│ xwin-lm-7b-v ┆ 0.405       ┆ 0.565       ┆ 0.4725      ┆ 0.205       ┆ 0.41125     ┆ 0.285       │\n",
       "│ 0.1.Q6_K.ggu ┆             ┆             ┆             ┆             ┆             ┆             │\n",
       "│ f            ┆             ┆             ┆             ┆             ┆             ┆             │\n",
       "│ llama-2-7b-c ┆ 0.399444    ┆ 0.625       ┆ 0.455       ┆ 0.2         ┆ 0.4125      ┆ 0.21        │\n",
       "│ hat.Q6_K.ggu ┆             ┆             ┆             ┆             ┆             ┆             │\n",
       "│ f            ┆             ┆             ┆             ┆             ┆             ┆             │\n",
       "│ tinyllama-1. ┆ 0.329444    ┆ 0.255       ┆ 0.2575      ┆ 0.155       ┆ 0.33125     ┆ 0.715       │\n",
       "│ 1b-chat-v0.3 ┆             ┆             ┆             ┆             ┆             ┆             │\n",
       "│ .Q6_K.gg…    ┆             ┆             ┆             ┆             ┆             ┆             │\n",
       "│ tinyllama-1. ┆ 0.316667    ┆ 0.21        ┆ 0.255       ┆ 0.22        ┆ 0.305       ┆ 0.69        │\n",
       "│ 1b-intermedi ┆             ┆             ┆             ┆             ┆             ┆             │\n",
       "│ ate-step…    ┆             ┆             ┆             ┆             ┆             ┆             │\n",
       "└──────────────┴─────────────┴─────────────┴─────────────┴─────────────┴─────────────┴─────────────┘"
      ]
     },
     "execution_count": 4,
     "metadata": {},
     "output_type": "execute_result"
    }
   ],
   "source": [
    "row_dicts = results_df.select([\"model\", \"normalized_score\", \"normalized_category_scores\"]).to_dicts()\n",
    "for row in row_dicts:\n",
    "    for d in sorted(list(row[\"normalized_category_scores\"])):\n",
    "        row[d] = row[\"normalized_category_scores\"].get(d)\n",
    "    del row[\"normalized_category_scores\"]\n",
    "scores_df = pl.DataFrame(row_dicts)\n",
    "scores_df\n"
   ]
  },
  {
   "cell_type": "code",
   "execution_count": 5,
   "metadata": {},
   "outputs": [
    {
     "data": {
      "text/html": [
       "<div><style>\n",
       ".dataframe > thead > tr > th,\n",
       ".dataframe > tbody > tr > td {\n",
       "  text-align: right;\n",
       "  white-space: pre-wrap;\n",
       "}\n",
       "</style>\n",
       "<small>shape: (17, 12)</small><table border=\"1\" class=\"dataframe\"><thead><tr><th>model</th><th>normalized_score</th><th>score</th><th>ai2_arc-arc-challenge-validation</th><th>alekseykorshuk_hellaswag-arc-easy-validation</th><th>anli--test_r1</th><th>cais_mmlu-all-validation</th><th>cosmos_qa--validation</th><th>math_qa--validation</th><th>race-high-validation</th><th>truthful_qa-multiple_choice-validation</th><th>winogrande-winogrande_s-validation</th></tr><tr><td>str</td><td>f64</td><td>i64</td><td>f64</td><td>f64</td><td>f64</td><td>f64</td><td>f64</td><td>f64</td><td>f64</td><td>f64</td><td>f64</td></tr></thead><tbody><tr><td>&quot;dolphin-2.0-mi…</td><td>0.562778</td><td>1013</td><td>0.83</td><td>0.695</td><td>0.62</td><td>0.5</td><td>0.77</td><td>0.19</td><td>0.74</td><td>0.515</td><td>0.205</td></tr><tr><td>&quot;speechless-lla…</td><td>0.558333</td><td>1005</td><td>0.78</td><td>0.65</td><td>0.615</td><td>0.555</td><td>0.77</td><td>0.255</td><td>0.775</td><td>0.47</td><td>0.155</td></tr><tr><td>&quot;superplatty-30…</td><td>0.556111</td><td>1001</td><td>0.81</td><td>0.525</td><td>0.485</td><td>0.485</td><td>0.77</td><td>0.25</td><td>0.85</td><td>0.55</td><td>0.28</td></tr><tr><td>&quot;mythical-destr…</td><td>0.552778</td><td>995</td><td>0.79</td><td>0.665</td><td>0.66</td><td>0.495</td><td>0.765</td><td>0.245</td><td>0.76</td><td>0.445</td><td>0.15</td></tr><tr><td>&quot;Mistral-11B-CC…</td><td>0.534444</td><td>962</td><td>0.78</td><td>0.455</td><td>0.42</td><td>0.535</td><td>0.745</td><td>0.215</td><td>0.705</td><td>0.505</td><td>0.45</td></tr><tr><td>&quot;athena-v4.Q6_K…</td><td>0.532222</td><td>958</td><td>0.755</td><td>0.61</td><td>0.5</td><td>0.485</td><td>0.715</td><td>0.285</td><td>0.685</td><td>0.475</td><td>0.28</td></tr><tr><td>&quot;zephyr-7b-alph…</td><td>0.526111</td><td>947</td><td>0.785</td><td>0.56</td><td>0.465</td><td>0.555</td><td>0.75</td><td>0.23</td><td>0.675</td><td>0.47</td><td>0.245</td></tr><tr><td>&quot;Emerhyst-20B.q…</td><td>0.514444</td><td>926</td><td>0.715</td><td>0.565</td><td>0.44</td><td>0.48</td><td>0.725</td><td>0.25</td><td>0.725</td><td>0.48</td><td>0.25</td></tr><tr><td>&quot;xwin-lm-13b-v0…</td><td>0.487778</td><td>878</td><td>0.63</td><td>0.46</td><td>0.41</td><td>0.505</td><td>0.67</td><td>0.24</td><td>0.69</td><td>0.32</td><td>0.465</td></tr><tr><td>&quot;mistral-7b-ins…</td><td>0.487778</td><td>878</td><td>0.705</td><td>0.47</td><td>0.38</td><td>0.47</td><td>0.715</td><td>0.195</td><td>0.66</td><td>0.54</td><td>0.255</td></tr><tr><td>&quot;mistral-7b-v0.…</td><td>0.485556</td><td>874</td><td>0.705</td><td>0.425</td><td>0.385</td><td>0.515</td><td>0.685</td><td>0.225</td><td>0.685</td><td>0.48</td><td>0.265</td></tr><tr><td>&quot;samantha-mistr…</td><td>0.465556</td><td>838</td><td>0.685</td><td>0.435</td><td>0.395</td><td>0.47</td><td>0.705</td><td>0.17</td><td>0.57</td><td>0.485</td><td>0.275</td></tr><tr><td>&quot;llama-2-13b-ch…</td><td>0.445556</td><td>802</td><td>0.59</td><td>0.445</td><td>0.285</td><td>0.5</td><td>0.62</td><td>0.2</td><td>0.645</td><td>0.245</td><td>0.48</td></tr><tr><td>&quot;xwin-lm-7b-v0.…</td><td>0.405</td><td>729</td><td>0.515</td><td>0.325</td><td>0.36</td><td>0.43</td><td>0.48</td><td>0.205</td><td>0.565</td><td>0.285</td><td>0.48</td></tr><tr><td>&quot;llama-2-7b-cha…</td><td>0.399444</td><td>719</td><td>0.515</td><td>0.38</td><td>0.295</td><td>0.395</td><td>0.52</td><td>0.2</td><td>0.625</td><td>0.21</td><td>0.455</td></tr><tr><td>&quot;tinyllama-1.1b…</td><td>0.329444</td><td>593</td><td>0.26</td><td>0.245</td><td>0.37</td><td>0.255</td><td>0.235</td><td>0.155</td><td>0.255</td><td>0.715</td><td>0.475</td></tr><tr><td>&quot;tinyllama-1.1b…</td><td>0.316667</td><td>570</td><td>0.255</td><td>0.24</td><td>0.27</td><td>0.255</td><td>0.235</td><td>0.22</td><td>0.21</td><td>0.69</td><td>0.475</td></tr></tbody></table></div>"
      ],
      "text/plain": [
       "shape: (17, 12)\n",
       "┌────────────┬────────────┬───────┬────────────┬───┬───────────┬───────────┬───────────┬───────────┐\n",
       "│ model      ┆ normalized ┆ score ┆ ai2_arc-ar ┆ … ┆ math_qa-- ┆ race-high ┆ truthful_ ┆ winogrand │\n",
       "│ ---        ┆ _score     ┆ ---   ┆ c-challeng ┆   ┆ validatio ┆ -validati ┆ qa-multip ┆ e-winogra │\n",
       "│ str        ┆ ---        ┆ i64   ┆ e-validati ┆   ┆ n         ┆ on        ┆ le_choice ┆ nde_s-val │\n",
       "│            ┆ f64        ┆       ┆ on         ┆   ┆ ---       ┆ ---       ┆ -vali…    ┆ idati…    │\n",
       "│            ┆            ┆       ┆ ---        ┆   ┆ f64       ┆ f64       ┆ ---       ┆ ---       │\n",
       "│            ┆            ┆       ┆ f64        ┆   ┆           ┆           ┆ f64       ┆ f64       │\n",
       "╞════════════╪════════════╪═══════╪════════════╪═══╪═══════════╪═══════════╪═══════════╪═══════════╡\n",
       "│ dolphin-2. ┆ 0.562778   ┆ 1013  ┆ 0.83       ┆ … ┆ 0.19      ┆ 0.74      ┆ 0.515     ┆ 0.205     │\n",
       "│ 0-mistral- ┆            ┆       ┆            ┆   ┆           ┆           ┆           ┆           │\n",
       "│ 7b.Q6_K.gg ┆            ┆       ┆            ┆   ┆           ┆           ┆           ┆           │\n",
       "│ uf         ┆            ┆       ┆            ┆   ┆           ┆           ┆           ┆           │\n",
       "│ speechless ┆ 0.558333   ┆ 1005  ┆ 0.78       ┆ … ┆ 0.255     ┆ 0.775     ┆ 0.47      ┆ 0.155     │\n",
       "│ -llama2-he ┆            ┆       ┆            ┆   ┆           ┆           ┆           ┆           │\n",
       "│ rmes-orca- ┆            ┆       ┆            ┆   ┆           ┆           ┆           ┆           │\n",
       "│ pl…        ┆            ┆       ┆            ┆   ┆           ┆           ┆           ┆           │\n",
       "│ superplatt ┆ 0.556111   ┆ 1001  ┆ 0.81       ┆ … ┆ 0.25      ┆ 0.85      ┆ 0.55      ┆ 0.28      │\n",
       "│ y-30b.Q2_K ┆            ┆       ┆            ┆   ┆           ┆           ┆           ┆           │\n",
       "│ .gguf      ┆            ┆       ┆            ┆   ┆           ┆           ┆           ┆           │\n",
       "│ mythical-d ┆ 0.552778   ┆ 995   ┆ 0.79       ┆ … ┆ 0.245     ┆ 0.76      ┆ 0.445     ┆ 0.15      │\n",
       "│ estroyer-v ┆            ┆       ┆            ┆   ┆           ┆           ┆           ┆           │\n",
       "│ 2-l2-13b.Q ┆            ┆       ┆            ┆   ┆           ┆           ┆           ┆           │\n",
       "│ 6_…        ┆            ┆       ┆            ┆   ┆           ┆           ┆           ┆           │\n",
       "│ …          ┆ …          ┆ …     ┆ …          ┆ … ┆ …         ┆ …         ┆ …         ┆ …         │\n",
       "│ xwin-lm-7b ┆ 0.405      ┆ 729   ┆ 0.515      ┆ … ┆ 0.205     ┆ 0.565     ┆ 0.285     ┆ 0.48      │\n",
       "│ -v0.1.Q6_K ┆            ┆       ┆            ┆   ┆           ┆           ┆           ┆           │\n",
       "│ .gguf      ┆            ┆       ┆            ┆   ┆           ┆           ┆           ┆           │\n",
       "│ llama-2-7b ┆ 0.399444   ┆ 719   ┆ 0.515      ┆ … ┆ 0.2       ┆ 0.625     ┆ 0.21      ┆ 0.455     │\n",
       "│ -chat.Q6_K ┆            ┆       ┆            ┆   ┆           ┆           ┆           ┆           │\n",
       "│ .gguf      ┆            ┆       ┆            ┆   ┆           ┆           ┆           ┆           │\n",
       "│ tinyllama- ┆ 0.329444   ┆ 593   ┆ 0.26       ┆ … ┆ 0.155     ┆ 0.255     ┆ 0.715     ┆ 0.475     │\n",
       "│ 1.1b-chat- ┆            ┆       ┆            ┆   ┆           ┆           ┆           ┆           │\n",
       "│ v0.3.Q6_K. ┆            ┆       ┆            ┆   ┆           ┆           ┆           ┆           │\n",
       "│ gg…        ┆            ┆       ┆            ┆   ┆           ┆           ┆           ┆           │\n",
       "│ tinyllama- ┆ 0.316667   ┆ 570   ┆ 0.255      ┆ … ┆ 0.22      ┆ 0.21      ┆ 0.69      ┆ 0.475     │\n",
       "│ 1.1b-inter ┆            ┆       ┆            ┆   ┆           ┆           ┆           ┆           │\n",
       "│ mediate-st ┆            ┆       ┆            ┆   ┆           ┆           ┆           ┆           │\n",
       "│ ep…        ┆            ┆       ┆            ┆   ┆           ┆           ┆           ┆           │\n",
       "└────────────┴────────────┴───────┴────────────┴───┴───────────┴───────────┴───────────┴───────────┘"
      ]
     },
     "execution_count": 5,
     "metadata": {},
     "output_type": "execute_result"
    }
   ],
   "source": [
    "row_dicts = results_df.select([\"model\", \"normalized_score\", \"score\", \"normalized_scores\"]).to_dicts()\n",
    "for row in row_dicts:\n",
    "    for d in sorted(list(row[\"normalized_scores\"])):\n",
    "        row[d] = row[\"normalized_scores\"].get(d)\n",
    "    del row[\"normalized_scores\"]\n",
    "scores_df = pl.DataFrame(row_dicts)\n",
    "scores_df"
   ]
  },
  {
   "cell_type": "code",
   "execution_count": 6,
   "metadata": {},
   "outputs": [],
   "source": [
    "# from transformers import AutoTokenizer\n",
    "# from petals import AutoDistributedModelForCausalLM\n",
    "\n",
    "# # Choose any model available at https://health.petals.dev\n",
    "# model_name = \"petals-team/StableBeluga2\"  # This one is fine-tuned Llama 2 (70B)\n",
    "\n",
    "# # Connect to a distributed network hosting model layers\n",
    "# tokenizer = AutoTokenizer.from_pretrained(model_name)\n",
    "# model = AutoDistributedModelForCausalLM.from_pretrained(model_name)\n",
    "# prompt = \"\"\"\n",
    "# There are three sisters in a room alone. Anna is reading a book. Alice is playing a game called Zonda. Zonda requires two people to play it.\n",
    "# What is the third sister, Amanda, most likely doing? Explain why.\n",
    "# Select from the following options:\n",
    "# (A) Also reading a book, like Anna\n",
    "# (B) Having music lessons from Alice\n",
    "# (C) Playing Zonda with Alice\n",
    "# (D) Observing the other sisters, while they do their activities only\n",
    "# (E) Trying to think of something to so\n",
    "# Answer: (\n",
    "# \"\"\"\n",
    "# from time import time\n",
    "# # Run the model as if it were on your computer\n",
    "# inputs = tokenizer(prompt, return_tensors=\"pt\")[\"input_ids\"]\n",
    "# s = time()\n",
    "# outputs = model.generate(inputs, max_new_tokens=100)\n",
    "# print(tokenizer.decode(outputs[0]))\n",
    "# print(f\"Time taken: {time() - s:.2f}s\")"
   ]
  },
  {
   "cell_type": "code",
   "execution_count": 8,
   "metadata": {},
   "outputs": [
    {
     "name": "stdout",
     "output_type": "stream",
     "text": [
      "results/tinyllama-1.1b-chat-v0.3.Q6_K.gguf-ms-1-ds-1-2023-10-10T17-36-37-252433\n"
     ]
    },
    {
     "name": "stderr",
     "output_type": "stream",
     "text": [
      "100%|██████████| 9/9 [00:00<00:00, 83330.54it/s]\n"
     ]
    },
    {
     "name": "stdout",
     "output_type": "stream",
     "text": [
      "Loading datasets with seed: 1\n",
      "0.019944190979003906\n",
      "results/xwin-lm-7b-v0.1.Q6_K.gguf-ms-1-ds-1-2023-10-11T16-07-37-341887\n"
     ]
    },
    {
     "name": "stderr",
     "output_type": "stream",
     "text": [
      "100%|██████████| 9/9 [00:00<00:00, 100129.27it/s]\n"
     ]
    },
    {
     "name": "stdout",
     "output_type": "stream",
     "text": [
      "Loading datasets with seed: 1\n",
      "0.00999593734741211\n",
      "results/Mistral-11B-CC-Air.q6_k.gguf-ms-1-ds-1-2023-10-11T20-00-57-110729\n"
     ]
    },
    {
     "name": "stderr",
     "output_type": "stream",
     "text": [
      "100%|██████████| 9/9 [00:00<00:00, 92977.18it/s]\n"
     ]
    },
    {
     "name": "stdout",
     "output_type": "stream",
     "text": [
      "Loading datasets with seed: 1\n",
      "0.010259151458740234\n",
      "results/samantha-mistral-instruct-7b.Q6_K.gguf-ms-1-ds-1-2023-10-11T14-19-12-610435\n"
     ]
    },
    {
     "name": "stderr",
     "output_type": "stream",
     "text": [
      "100%|██████████| 9/9 [00:00<00:00, 10573.88it/s]\n"
     ]
    },
    {
     "name": "stdout",
     "output_type": "stream",
     "text": [
      "Loading datasets with seed: 1\n",
      "0.016135215759277344\n",
      "results/Emerhyst-20B.q6_k.gguf-ms-1-ds-1-2023-10-11T18-50-15-133569\n"
     ]
    },
    {
     "name": "stderr",
     "output_type": "stream",
     "text": [
      "100%|██████████| 9/9 [00:00<00:00, 100932.45it/s]\n"
     ]
    },
    {
     "name": "stdout",
     "output_type": "stream",
     "text": [
      "Loading datasets with seed: 1\n",
      "0.009961843490600586\n",
      "results/llama-2-7b-chat.Q6_K.gguf-ms-1-ds-1-2023-10-10T17-40-24-294420\n"
     ]
    },
    {
     "name": "stderr",
     "output_type": "stream",
     "text": [
      "100%|██████████| 9/9 [00:00<00:00, 111353.20it/s]\n"
     ]
    },
    {
     "name": "stdout",
     "output_type": "stream",
     "text": [
      "Loading datasets with seed: 1\n",
      "0.011210918426513672\n",
      "results/tinyllama-1.1b-intermediate-step-480k-1t.Q6_K.gguf-ms-1-ds-1-2023-10-10T17-31-55-095372\n"
     ]
    },
    {
     "name": "stderr",
     "output_type": "stream",
     "text": [
      "100%|██████████| 9/9 [00:00<00:00, 103421.19it/s]\n"
     ]
    },
    {
     "name": "stdout",
     "output_type": "stream",
     "text": [
      "Loading datasets with seed: 1\n",
      "0.010084152221679688\n",
      "results/mistral-7b-v0.1.Q6_K.gguf-ms-1-ds-1-2023-10-10T19-28-38-746300\n"
     ]
    },
    {
     "name": "stderr",
     "output_type": "stream",
     "text": [
      "100%|██████████| 9/9 [00:00<00:00, 102300.10it/s]"
     ]
    },
    {
     "name": "stdout",
     "output_type": "stream",
     "text": [
      "Loading datasets with seed: 1\n",
      "0.009479045867919922\n",
      "results/superplatty-30b.Q2_K.gguf-ms-1-ds-1-2023-10-11T23-16-37-044499\n"
     ]
    },
    {
     "name": "stderr",
     "output_type": "stream",
     "text": [
      "\n",
      "100%|██████████| 9/9 [00:00<00:00, 82601.17it/s]\n"
     ]
    },
    {
     "name": "stdout",
     "output_type": "stream",
     "text": [
      "Loading datasets with seed: 1\n",
      "0.013620853424072266\n",
      "results/speechless-llama2-hermes-orca-platypus-wizardlm-13b.Q6_K.gguf-ms-1-ds-1-2023-10-11T13-42-32-925835\n"
     ]
    },
    {
     "name": "stderr",
     "output_type": "stream",
     "text": [
      "100%|██████████| 9/9 [00:00<00:00, 88197.98it/s]\n"
     ]
    },
    {
     "name": "stdout",
     "output_type": "stream",
     "text": [
      "Loading datasets with seed: 1\n",
      "0.016750812530517578\n",
      "results/llama-2-13b-chat.Q6_K.gguf-ms-1-ds-1-2023-10-10T18-03-34-116530\n"
     ]
    },
    {
     "name": "stderr",
     "output_type": "stream",
     "text": [
      "100%|██████████| 9/9 [00:00<00:00, 99078.05it/s]\n"
     ]
    },
    {
     "name": "stdout",
     "output_type": "stream",
     "text": [
      "Loading datasets with seed: 1\n",
      "0.014642000198364258\n",
      "results/mythical-destroyer-v2-l2-13b.Q6_K.gguf-ms-1-ds-1-2023-10-11T15-32-32-679656\n"
     ]
    },
    {
     "name": "stderr",
     "output_type": "stream",
     "text": [
      "100%|██████████| 9/9 [00:00<00:00, 43489.33it/s]\n"
     ]
    },
    {
     "name": "stdout",
     "output_type": "stream",
     "text": [
      "Loading datasets with seed: 1\n",
      "0.012509822845458984\n",
      "results/mistral-7b-instruct-v0.1.Q6_K.gguf-ms-1-ds-1-2023-10-10T18-58-34-043212\n"
     ]
    },
    {
     "name": "stderr",
     "output_type": "stream",
     "text": [
      "100%|██████████| 9/9 [00:00<00:00, 108473.38it/s]\n"
     ]
    },
    {
     "name": "stdout",
     "output_type": "stream",
     "text": [
      "Loading datasets with seed: 1\n",
      "0.011658906936645508\n",
      "results/zephyr-7b-alpha.Q6_K.gguf-ms-1-ds-1-2023-10-11T16-26-14-926184\n"
     ]
    },
    {
     "name": "stderr",
     "output_type": "stream",
     "text": [
      "100%|██████████| 9/9 [00:00<00:00, 95808.97it/s]\n"
     ]
    },
    {
     "name": "stdout",
     "output_type": "stream",
     "text": [
      "Loading datasets with seed: 1\n",
      "0.010461807250976562\n",
      "results/athena-v4.Q6_K.gguf-ms-1-ds-1-2023-10-11T10-31-06-195563\n"
     ]
    },
    {
     "name": "stderr",
     "output_type": "stream",
     "text": [
      "100%|██████████| 9/9 [00:00<00:00, 121770.12it/s]\n"
     ]
    },
    {
     "name": "stdout",
     "output_type": "stream",
     "text": [
      "Loading datasets with seed: 1\n",
      "0.011010885238647461\n",
      "results/xwin-lm-13b-v0.1.Q6_K.gguf-ms-1-ds-1-2023-10-11T14-57-35-224619\n"
     ]
    },
    {
     "name": "stderr",
     "output_type": "stream",
     "text": [
      "100%|██████████| 9/9 [00:00<00:00, 97541.95it/s]\n"
     ]
    },
    {
     "name": "stdout",
     "output_type": "stream",
     "text": [
      "Loading datasets with seed: 1\n",
      "0.009710073471069336\n",
      "results/dolphin-2.0-mistral-7b.Q6_K.gguf-ms-1-ds-1-2023-10-11T14-38-22-445488\n"
     ]
    },
    {
     "name": "stderr",
     "output_type": "stream",
     "text": [
      "100%|██████████| 9/9 [00:00<00:00, 86579.67it/s]\n"
     ]
    },
    {
     "name": "stdout",
     "output_type": "stream",
     "text": [
      "Loading datasets with seed: 1\n",
      "0.04532814025878906\n"
     ]
    },
    {
     "data": {
      "text/html": [
       "<div><style>\n",
       ".dataframe > thead > tr > th,\n",
       ".dataframe > tbody > tr > td {\n",
       "  text-align: right;\n",
       "  white-space: pre-wrap;\n",
       "}\n",
       "</style>\n",
       "<small>shape: (17, 3)</small><table border=\"1\" class=\"dataframe\"><thead><tr><th>model</th><th>normalized_score</th><th>score</th></tr><tr><td>str</td><td>f64</td><td>i64</td></tr></thead><tbody><tr><td>&quot;dolphin-2.0-mi…</td><td>0.562778</td><td>1013</td></tr><tr><td>&quot;speechless-lla…</td><td>0.558333</td><td>1005</td></tr><tr><td>&quot;superplatty-30…</td><td>0.556111</td><td>1001</td></tr><tr><td>&quot;mythical-destr…</td><td>0.552778</td><td>995</td></tr><tr><td>&quot;Mistral-11B-CC…</td><td>0.534444</td><td>962</td></tr><tr><td>&quot;athena-v4.Q6_K…</td><td>0.532222</td><td>958</td></tr><tr><td>&quot;zephyr-7b-alph…</td><td>0.526111</td><td>947</td></tr><tr><td>&quot;Emerhyst-20B.q…</td><td>0.514444</td><td>926</td></tr><tr><td>&quot;xwin-lm-13b-v0…</td><td>0.487778</td><td>878</td></tr><tr><td>&quot;mistral-7b-ins…</td><td>0.487778</td><td>878</td></tr><tr><td>&quot;mistral-7b-v0.…</td><td>0.485556</td><td>874</td></tr><tr><td>&quot;samantha-mistr…</td><td>0.465556</td><td>838</td></tr><tr><td>&quot;llama-2-13b-ch…</td><td>0.445556</td><td>802</td></tr><tr><td>&quot;xwin-lm-7b-v0.…</td><td>0.405</td><td>729</td></tr><tr><td>&quot;llama-2-7b-cha…</td><td>0.399444</td><td>719</td></tr><tr><td>&quot;tinyllama-1.1b…</td><td>0.329444</td><td>593</td></tr><tr><td>&quot;tinyllama-1.1b…</td><td>0.316667</td><td>570</td></tr></tbody></table></div>"
      ],
      "text/plain": [
       "shape: (17, 3)\n",
       "┌───────────────────────────────────┬──────────────────┬───────┐\n",
       "│ model                             ┆ normalized_score ┆ score │\n",
       "│ ---                               ┆ ---              ┆ ---   │\n",
       "│ str                               ┆ f64              ┆ i64   │\n",
       "╞═══════════════════════════════════╪══════════════════╪═══════╡\n",
       "│ dolphin-2.0-mistral-7b.Q6_K.gguf  ┆ 0.562778         ┆ 1013  │\n",
       "│ speechless-llama2-hermes-orca-pl… ┆ 0.558333         ┆ 1005  │\n",
       "│ superplatty-30b.Q2_K.gguf         ┆ 0.556111         ┆ 1001  │\n",
       "│ mythical-destroyer-v2-l2-13b.Q6_… ┆ 0.552778         ┆ 995   │\n",
       "│ …                                 ┆ …                ┆ …     │\n",
       "│ xwin-lm-7b-v0.1.Q6_K.gguf         ┆ 0.405            ┆ 729   │\n",
       "│ llama-2-7b-chat.Q6_K.gguf         ┆ 0.399444         ┆ 719   │\n",
       "│ tinyllama-1.1b-chat-v0.3.Q6_K.gg… ┆ 0.329444         ┆ 593   │\n",
       "│ tinyllama-1.1b-intermediate-step… ┆ 0.316667         ┆ 570   │\n",
       "└───────────────────────────────────┴──────────────────┴───────┘"
      ]
     },
     "execution_count": 8,
     "metadata": {},
     "output_type": "execute_result"
    }
   ],
   "source": [
    "from pathlib import Path\n",
    "import json\n",
    "from run_bench import get_datasets, calculate_category_scores\n",
    "\n",
    "results_folder = Path(\"results\")\n",
    "\n",
    "results_df = pl.DataFrame()\n",
    "results_folders = [f for f in Path(results_folder).iterdir() if not f.is_file()]\n",
    "for result_folder in results_folders:\n",
    "    print(result_folder)\n",
    "    metadata = json.load(\n",
    "        open(result_folder / \"metadata.json\", \"r\"),\n",
    "    )\n",
    "    datasets_df = pl.read_parquet(\n",
    "        result_folder / \"datasets_results.parquet\",\n",
    "    )\n",
    "    number_of_samples = metadata[\"number_of_samples\"]\n",
    "\n",
    "    datasets = get_datasets(number_of_samples, metadata[\"dataset_seed\"])\n",
    "\n",
    "    scores = {\n",
    "        r[\"dataset\"]: r[\"score\"]\n",
    "        for r in datasets_df.group_by(\"dataset\")\n",
    "        .agg(pl.sum(\"score\").alias(\"score\"))\n",
    "        .to_dicts()\n",
    "    }\n",
    "    normalized_scores = {k: v / number_of_samples for k, v in scores.items()}\n",
    "    category_scores = calculate_category_scores(datasets_df)\n",
    "    normalized_category_scores = {\n",
    "        k: v / (len([d for d in datasets if d.category == k]) * number_of_samples)\n",
    "        for k, v in category_scores.items()\n",
    "    }\n",
    "    score = sum(scores.values())\n",
    "    normalized_score = score / (len(metadata[\"datasets\"]) * number_of_samples)\n",
    "    # normalized_score = sum(normalized_category_scores.values())/len(normalized_category_scores)\n",
    "\n",
    "    result = {\n",
    "        \"model\": metadata[\"model\"],\n",
    "        \"model_seed\": metadata[\"model_seed\"],\n",
    "        \"dataset_seed\": metadata[\"dataset_seed\"],\n",
    "        \"score\": score,\n",
    "        \"normalized_score\": normalized_score,\n",
    "        \"scores\": scores,\n",
    "        \"normalized_scores\": normalized_scores,\n",
    "        \"category_scores\": category_scores,\n",
    "        \"normalized_category_scores\": normalized_category_scores,\n",
    "        \"number_of_samples\": number_of_samples,\n",
    "        \"run_folder_name\": result_folder.name,\n",
    "    }\n",
    "    results_df = pl.DataFrame([*results_df.to_dicts(), result])\n",
    "results_df.sort(\"normalized_score\").reverse().select([\"model\", \"normalized_score\", \"score\"])"
   ]
  },
  {
   "cell_type": "code",
   "execution_count": null,
   "metadata": {},
   "outputs": [],
   "source": []
  }
 ],
 "metadata": {
  "kernelspec": {
   "display_name": ".venv",
   "language": "python",
   "name": "python3"
  },
  "language_info": {
   "codemirror_mode": {
    "name": "ipython",
    "version": 3
   },
   "file_extension": ".py",
   "mimetype": "text/x-python",
   "name": "python",
   "nbconvert_exporter": "python",
   "pygments_lexer": "ipython3",
   "version": "3.10.13"
  }
 },
 "nbformat": 4,
 "nbformat_minor": 2
}
